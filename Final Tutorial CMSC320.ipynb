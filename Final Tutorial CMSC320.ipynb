{
 "cells": [
  {
   "cell_type": "markdown",
   "id": "moral-weekly",
   "metadata": {},
   "source": [
    "# How have centers and power forwards in the NBA  changed and improved their shooting over time ?  "
   ]
  },
  {
   "cell_type": "markdown",
   "id": "skilled-interpretation",
   "metadata": {},
   "source": [
    "# Zander Rana, Vardhan Patel, Hritvik Patel"
   ]
  },
  {
   "cell_type": "markdown",
   "id": "professional-investment",
   "metadata": {},
   "source": [
    "# INTRODUCTION"
   ]
  },
  {
   "cell_type": "markdown",
   "id": "useful-diary",
   "metadata": {},
   "source": [
    "Basketball is one of the most played and watched sports in the United States and several parts of the world, especially the NBA. Being created by Dr. James Naismith, this sport rose to be highly influential. However, the game of basketball has changed rapidly in the last 2 decades. Basketball consisted of 5 positions: the point guard, who is the shortest at the court, but is very fast and agile and sets up the play for the rest of the team; the shooting guard, almost the same size as the point guard, but is mainly responsible for scoring the basket mainly through shooting the ball, especially three-pointers; the small forward, who serves as the hybrid between the guards and big forwards as they can shoot, score, and get rebounds; and finally the power forwards and the centers, who are the biggest, tallest players on the court. Their main goal is to score layups under the basket through post moves and most importantly, get rebounds. Before, power forwards and Centers are originally intended to stay around the basket in order to score layups and get rebounds due to height advantage, but they were not intended to shoot the ball as they have to stay near the basket and never go beyond the three-point arc. Back then, it would be highly beneficial to foul a big man as they are more likely to miss a free throw due to their inability to shoot. However, in the last decade, big men like the centers and power forwards have been starting to shoot and score three-pointers that have never been seen before in the NBA since the 1950s. NBA centers and power forwards have become more prominent in shooting like for example, Karl Anthony Towns, who just recently now holds the current record for the most threes, which was \"68 three-pointers,\" shot by a center in the season, and Blake Griffin, who started as a full-on paint scorer and is now shooting better than ever before. Since more people are shooting the three-ball more than ever before including the power forwards and centers, the game could be significantly different than it was originally intended and thus new rules and possibly new field goals (like a potential extra four-point line located around the half-court) must be implemented to maintain the balance of this game. With the help of Data Science, we can visualize, analyze, and prove how significantly different the big men in today's NBA shoot compared to the past.\n"
   ]
  },
  {
   "cell_type": "markdown",
   "id": "advisory-township",
   "metadata": {},
   "source": [
    "# DATA COLLECTION"
   ]
  },
  {
   "cell_type": "markdown",
   "id": "durable-newark",
   "metadata": {},
   "source": [
    "First things first, we must collect and gather our data. I will be using a large amount of data for this tutorial as I am collecting stats from every single center and power forward from the 2000-2001 season to the 2020-2021 season. I will be collecting data from the basketball reference website containing the NBA data. I will use pandas to collect all of the tables from the URL website in form of data frames. However, I am going to have a big list of data frames, with each data frame containing every single NBA player from each specific season. Thus I will have around 20 data frames in total stored in the list, each containing all of the players during the season. A huge amount of NBA data."
   ]
  },
  {
   "cell_type": "code",
   "execution_count": 195,
   "id": "infinite-detail",
   "metadata": {},
   "outputs": [
    {
     "data": {
      "text/plain": [
       "[      Rk               Player Pos Age   Tm   G  GS    MP   FG   FGA  ...  \\\n",
       " 0      1    Tariq Abdul-Wahad  SG  25  TOT  61  56  1578  274   646  ...   \n",
       " 1      1    Tariq Abdul-Wahad  SG  25  ORL  46  46  1205  223   515  ...   \n",
       " 2      1    Tariq Abdul-Wahad  SG  25  DEN  15  10   373   51   131  ...   \n",
       " 3      2  Shareef Abdur-Rahim  SF  23  VAN  82  82  3223  594  1277  ...   \n",
       " 4      3       Cory Alexander  PG  26  DEN  29   2   329   28    98  ...   \n",
       " ..   ...                  ...  ..  ..  ...  ..  ..   ...  ...   ...  ...   \n",
       " 512  436     Haywoode Workman  PG  34  MIL  23   1   248   23    62  ...   \n",
       " 513  436     Haywoode Workman  PG  34  TOR  13   1   102    8    28  ...   \n",
       " 514  437    Metta World Peace  SF  20  CHI  72  63  2238  309   759  ...   \n",
       " 515  438      Lorenzen Wright   C  24  ATL  75   0  1205  180   361  ...   \n",
       " 516  439            Tim Young   C  23  GSW  25   0   137   13    39  ...   \n",
       " \n",
       "       FT%  ORB  DRB  TRB  AST  STL BLK  TOV   PF   PTS  \n",
       " 0    .756  101  190  291   98   59  28  106  147   697  \n",
       " 1    .762   77  162  239   72   53  16   87  116   563  \n",
       " 2    .738   24   28   52   26    6  12   19   31   134  \n",
       " 3    .809  218  607  825  271   89  87  249  244  1663  \n",
       " 4    .773    8   34   42   58   24   2   28   39    82  \n",
       " ..    ...  ...  ...  ...  ...  ...  ..  ...  ...   ...  \n",
       " 512  .692    1   16   17   44   11   0   14   23    66  \n",
       " 513  .500    0    9    9   17    9   0    4   14    20  \n",
       " 514  .674   62  246  308  202  119  39  166  159   866  \n",
       " 515  .644  117  188  305   21   29  40   66  203   448  \n",
       " 516  .778   13   22   35    5    2   1    9   18    54  \n",
       " \n",
       " [517 rows x 30 columns],\n",
       "       Rk               Player  Pos  Age   Tm   G  GS    MP   FG   FGA  ...  \\\n",
       " 0      1   Mahmoud Abdul-Rauf   PG   31  VAN  41   0   486  120   246  ...   \n",
       " 1      2    Tariq Abdul-Wahad   SG   26  DEN  29  12   420   43   111  ...   \n",
       " 2      3  Shareef Abdur-Rahim   SF   24  VAN  81  81  3241  604  1280  ...   \n",
       " 3      4       Cory Alexander   PG   27  ORL  26   0   227   18    56  ...   \n",
       " 4      5   Courtney Alexander   PG   23  TOT  65  24  1382  239   573  ...   \n",
       " ..   ...                  ...  ...  ...  ...  ..  ..   ...  ...   ...  ...   \n",
       " 554  438     Rubén Wolkowyski   PF   27  SEA  34   1   305   25    79  ...   \n",
       " 555  439    Metta World Peace   SF   21  CHI  76  74  2363  327   815  ...   \n",
       " 556  440      Lorenzen Wright    C   25  ATL  71  46  1988  363   811  ...   \n",
       " 557   Rk               Player  Pos  Age   Tm   G  GS    MP   FG   FGA  ...   \n",
       " 558  441          Wang Zhizhi    C   23  DAL   5   0    38    8    19  ...   \n",
       " \n",
       "       FT%  ORB  DRB  TRB  AST  STL  BLK  TOV   PF   PTS  \n",
       " 0    .759    5   20   25   76    9    1   26   50   266  \n",
       " 1    .583   14   45   59   22   14   13   34   54   111  \n",
       " 2    .834  175  560  735  250   90   77  231  238  1663  \n",
       " 3    .667    0   25   25   36   16    0   25   29    52  \n",
       " 4    .820   42  101  143   62   45    5   75  139   618  \n",
       " ..    ...  ...  ...  ...  ...  ...  ...  ...  ...   ...  \n",
       " 554  .735   12   34   46    3    6   18   12   38    75  \n",
       " 555  .750   59  235  294  228  152   45  159  254   907  \n",
       " 556  .718  180  355  535   87   42   63  125  232   881  \n",
       " 557   FT%  ORB  DRB  TRB  AST  STL  BLK  TOV   PF   PTS  \n",
       " 558  .800    1    6    7    0    0    0    1    8    24  \n",
       " \n",
       " [559 rows x 30 columns],\n",
       "       Rk               Player Pos Age   Tm   G  GS    MP   FG   FGA  ...  \\\n",
       " 0      1    Tariq Abdul-Wahad  SG  27  TOT  24  12   441   55   147  ...   \n",
       " 1      1    Tariq Abdul-Wahad  SG  27  DEN  20  12   417   55   145  ...   \n",
       " 2      1    Tariq Abdul-Wahad  SG  27  DAL   4   0    24    0     2  ...   \n",
       " 3      2  Shareef Abdur-Rahim  PF  25  ATL  77  77  2980  598  1297  ...   \n",
       " 4      3   Courtney Alexander  SG  24  WAS  56  28  1325  223   474  ...   \n",
       " ..   ...                  ...  ..  ..  ...  ..  ..   ...  ...   ...  ...   \n",
       " 516  438    Metta World Peace  SF  22  TOT  55  50  1642  269   636  ...   \n",
       " 517  438    Metta World Peace  SF  22  CHI  27  26   823  152   351  ...   \n",
       " 518  438    Metta World Peace  SF  22  IND  28  24   819  117   285  ...   \n",
       " 519  439      Lorenzen Wright   C  26  MEM  43  33  1251  223   486  ...   \n",
       " 520  440          Wang Zhizhi   C  24  DAL  55   0   600  109   248  ...   \n",
       " \n",
       "       FT%  ORB  DRB  TRB  AST  STL BLK  TOV   PF   PTS  \n",
       " 0    .727   41   43   84   24   20  10   27   56   135  \n",
       " 1    .750   39   39   78   22   18   9   24   51   135  \n",
       " 2    .000    2    4    6    2    2   1    3    5     0  \n",
       " 3    .801  198  498  696  239   98  81  250  214  1636  \n",
       " 4    .810   43  105  148   86   35   7   60  113   549  \n",
       " ..    ...  ...  ...  ...  ...  ...  ..  ...  ...   ...  \n",
       " 516  .667   73  198  271  127  141  39  118  217   727  \n",
       " 517  .628   40   91  131   77   75  23   69  108   421  \n",
       " 518  .733   33  107  140   50   66  16   49  109   306  \n",
       " 519  .569  130  275  405   44   30  23   72  126   516  \n",
       " 520  .737   19   92  111   22   11  18   25   84   308  \n",
       " \n",
       " [521 rows x 30 columns],\n",
       "       Rk               Player Pos Age   Tm   G  GS    MP   FG   FGA  ...  \\\n",
       " 0      1    Tariq Abdul-Wahad  SG  28  DAL  14   0   204   27    58  ...   \n",
       " 1      2  Shareef Abdur-Rahim  PF  26  ATL  81  81  3087  566  1183  ...   \n",
       " 2      3   Courtney Alexander  PG  25  NOH  66   7  1360  193   505  ...   \n",
       " 3      4          Malik Allen  PF  24  MIA  80  73  2318  335   790  ...   \n",
       " 4      5           Ray Allen*  SG  27  TOT  76  75  2880  598  1363  ...   \n",
       " ..   ...                  ...  ..  ..  ...  ..  ..   ...  ...   ...  ...   \n",
       " 499  424         Qyntel Woods  PF  21  POR  53   0   334   59   118  ...   \n",
       " 500  425    Metta World Peace  SF  23  IND  69  67  2317  362   846  ...   \n",
       " 501  426      Lorenzen Wright   C  27  MEM  70  49  1982  325   716  ...   \n",
       " 502  427    Vincent Yarbrough  SG  21  DEN  59  39  1381  168   428  ...   \n",
       " 503  428          Wang Zhizhi   C  25  LAC  41   1   412   62   162  ...   \n",
       " \n",
       "       FT%  ORB  DRB  TRB  AST  STL BLK  TOV   PF   PTS  \n",
       " 0    .500   14   26   40   21    6   3    7   26    57  \n",
       " 1    .841  175  502  677  242   87  38  212  240  1608  \n",
       " 2    .808   39   79  118   79   31   6   68  125   523  \n",
       " 3    .802  134  291  425   54   37  78  128  234   767  \n",
       " 4    .916   94  287  381  334  103  14  198  220  1713  \n",
       " ..    ...  ...  ...  ...  ...  ...  ..  ...  ...   ...  \n",
       " 499  .350   15   38   53   12   15   1   23   36   128  \n",
       " 500  .736  101  261  362  198  159  50  145  242  1068  \n",
       " 501  .659  170  358  528   80   51  54  110  209   797  \n",
       " 502  .790   36  126  162  130   57  33   81  145   406  \n",
       " 503  .724   26   51   77   10    8  10   31   41   182  \n",
       " \n",
       " [504 rows x 30 columns],\n",
       "       Rk               Player  Pos  Age   Tm   G  GS    MP   FG   FGA  ...  \\\n",
       " 0      1  Shareef Abdur-Rahim   PF   27  TOT  85  56  2684  501  1054  ...   \n",
       " 1      1  Shareef Abdur-Rahim   PF   27  ATL  53  53  1956  383   790  ...   \n",
       " 2      1  Shareef Abdur-Rahim   PF   27  POR  32   3   728  118   264  ...   \n",
       " 3      2          Malik Allen   PF   25  MIA  45   6   616   83   198  ...   \n",
       " 4      3           Ray Allen*   SG   28  SEA  56  56  2152  447  1017  ...   \n",
       " ..   ...                  ...  ...  ...  ...  ..  ..   ...  ...   ...  ...   \n",
       " 602   Rk               Player  Pos  Age   Tm   G  GS    MP   FG   FGA  ...   \n",
       " 603  441      Lorenzen Wright    C   28  MEM  65  46  1674  257   586  ...   \n",
       " 604  442          Wang Zhizhi    C   26  TOT  16   0   114   17    46  ...   \n",
       " 605  442          Wang Zhizhi    C   26  LAC   2   0     9    0     1  ...   \n",
       " 606  442          Wang Zhizhi    C   26  MIA  14   0   105   17    45  ...   \n",
       " \n",
       "        FT%  ORB  DRB  TRB  AST  STL  BLK  TOV   PF   PTS  \n",
       " 0     .869  189  450  639  174   68   37  184  222  1384  \n",
       " 1     .880  141  354  495  127   44   19  131  147  1065  \n",
       " 2     .832   48   96  144   47   24   18   53   75   319  \n",
       " 3     .758   42   77  119   16   12   28   27   81   191  \n",
       " 4     .904   69  217  286  268   71   11  156  132  1287  \n",
       " ..     ...  ...  ...  ...  ...  ...  ...  ...  ...   ...  \n",
       " 602    FT%  ORB  DRB  TRB  AST  STL  BLK  TOV   PF   PTS  \n",
       " 603   .733  144  301  445   71   45   58   77  192   610  \n",
       " 604   .900    4   14   18    2    3    5    6   13    47  \n",
       " 605  1.000    0    4    4    0    0    1    0    0     4  \n",
       " 606   .833    4   10   14    2    3    4    6   13    43  \n",
       " \n",
       " [607 rows x 30 columns],\n",
       "       Rk               Player  Pos  Age   Tm   G  GS    MP   FG  FGA  ...  \\\n",
       " 0      1  Shareef Abdur-Rahim   PF   28  POR  54  49  1867  337  670  ...   \n",
       " 1      2       Cory Alexander   SG   31  CHA  16   1   201   16   49  ...   \n",
       " 2      3          Malik Allen   PF   26  TOT  36   1   519   84  177  ...   \n",
       " 3      3          Malik Allen   PF   26  MIA  14   0   248   35   76  ...   \n",
       " 4      3          Malik Allen   PF   26  CHA  22   1   271   49  101  ...   \n",
       " ..   ...                  ...  ...  ...  ...  ..  ..   ...  ...  ...  ...   \n",
       " 603   Rk               Player  Pos  Age   Tm   G  GS    MP   FG  FGA  ...   \n",
       " 604  461    Metta World Peace   SF   25  IND   7   7   291   59  119  ...   \n",
       " 605  462        Dorell Wright   SF   19  MIA   3   0    27    3   11  ...   \n",
       " 606  463      Lorenzen Wright    C   29  MEM  80  77  2287  320  683  ...   \n",
       " 607  464          Wang Zhizhi    C   27  MIA  20   0    92   17   36  ...   \n",
       " \n",
       "        FT%  ORB  DRB  TRB  AST  STL  BLK  TOV   PF  PTS  \n",
       " 0     .866  123  269  392  111   49   26  117  150  909  \n",
       " 1     .750    8   21   29   37    9    1   19   29   49  \n",
       " 2     .929   40   59   99   18    9   22   18   53  194  \n",
       " 3     .929   24   28   52   11    4   11   11   29   83  \n",
       " 4     .929   16   31   47    7    5   11    7   24  111  \n",
       " ..     ...  ...  ...  ...  ...  ...  ...  ...  ...  ...  \n",
       " 603    FT%  ORB  DRB  TRB  AST  STL  BLK  TOV   PF  PTS  \n",
       " 604   .922    8   37   45   22   12    6   17   27  172  \n",
       " 605  1.000    0    1    1    3    4    0    3    2    7  \n",
       " 606   .662  177  436  613   87   58   69  100  251  771  \n",
       " 607   .583    6   12   18    5    3    2    5    9   43  \n",
       " \n",
       " [608 rows x 30 columns],\n",
       "       Rk               Player Pos Age   Tm   G  GS    MP   FG   FGA  ...  \\\n",
       " 0      1  Shareef Abdur-Rahim  PF  29  SAC  72  30  1961  332   632  ...   \n",
       " 1      2           Alex Acker  SG  23  DET   5   0    35    4    16  ...   \n",
       " 2      3          Malik Allen  PF  27  CHI  54  20   701  121   247  ...   \n",
       " 3      4           Ray Allen*  SG  30  SEA  78  78  3022  681  1500  ...   \n",
       " 4      5           Tony Allen  PG  24  BOS  51   9   978  129   274  ...   \n",
       " ..   ...                  ...  ..  ..  ...  ..  ..   ...  ...   ...  ...   \n",
       " 580  454       Antoine Wright  SG  21  NJN  39   0   370   29    81  ...   \n",
       " 581  455        Bracey Wright  SG  21  MIN   7   0   135   21    51  ...   \n",
       " 582  456        Dorell Wright  SF  20  MIA  20   2   132   20    43  ...   \n",
       " 583  457      Lorenzen Wright   C  30  MEM  78  58  1689  194   406  ...   \n",
       " 584  458    Derrick Zimmerman  PG  24  NJN   2   0    32    2     3  ...   \n",
       " \n",
       "       FT%  ORB  DRB  TRB  AST  STL BLK  TOV   PF   PTS  \n",
       " 0    .784  106  251  357  149   48  42  108  227   887  \n",
       " 1     NaN    1    4    5    4    1   0    4    4     9  \n",
       " 2    .605   44   96  140   20   14  16   34   92   266  \n",
       " 3    .903   71  261  332  286  105  16  188  151  1955  \n",
       " 4    .746   32   79  111   67   51  18   67  126   369  \n",
       " ..    ...  ...  ...  ...  ...  ...  ..  ...  ...   ...  \n",
       " 580  .500    8   22   30   12    4   3   21   42    70  \n",
       " 581  .875    3   15   18    5    1   0    8    8    62  \n",
       " 582  .882    2   30   32    8    3   1   14   12    58  \n",
       " 583  .564  142  253  395   48   52  46   67  201   454  \n",
       " 584   NaN    1    3    4    7    0   0    4    4     4  \n",
       " \n",
       " [585 rows x 30 columns],\n",
       "       Rk               Player Pos Age   Tm   G  GS    MP   FG   FGA  ...  \\\n",
       " 0      1  Shareef Abdur-Rahim   C  30  SAC  80  45  2015  310   654  ...   \n",
       " 1      2         Hassan Adams  SG  22  NJN  61   8   495   75   135  ...   \n",
       " 2      3         Maurice Ager  SG  22  DAL  32   1   214   22    70  ...   \n",
       " 3      4    LaMarcus Aldridge   C  21  POR  63  22  1392  241   479  ...   \n",
       " 4      5          Malik Allen  PF  28  CHI  60   1   638  107   258  ...   \n",
       " ..   ...                  ...  ..  ..  ...  ..  ..   ...  ...   ...  ...   \n",
       " 533  454    Metta World Peace  SF  27  SAC  70  65  2641  458  1040  ...   \n",
       " 534  455       Antoine Wright  SG  22  NJN  63  23  1137  110   251  ...   \n",
       " 535  456        Bracey Wright  SG  22  MIN  19   0   190   24    60  ...   \n",
       " 536  457        Dorell Wright  SF  21  MIA  66  19  1292  162   364  ...   \n",
       " 537  458      Lorenzen Wright   C  31  ATL  67  31  1035   82   183  ...   \n",
       " \n",
       "       FT%  ORB  DRB  TRB  AST  STL BLK  TOV   PF   PTS  \n",
       " 0    .726  122  276  398  109   53  40  116  243   793  \n",
       " 1    .667   35   42   77   13   17   4   22   47   174  \n",
       " 2    .606    1   20   21    7    4   3   15   27    69  \n",
       " 3    .722  144  168  312   24   22  73   43  186   565  \n",
       " 4    .824   42   77  119   16   17  16   21   85   242  \n",
       " ..    ...  ...  ...  ...  ...  ...  ..  ...  ...   ...  \n",
       " 533  .740  102  352  454  235  149  43  146  205  1316  \n",
       " 534  .603   38  137  175   55   30  10   43  120   283  \n",
       " 535  .722    7   14   21   15    9   1    6    6    67  \n",
       " 536  .744   40  232  272   95   41  46   65  112   393  \n",
       " 537  .281   85  131  216   40   28  28   39  204   173  \n",
       " \n",
       " [538 rows x 30 columns],\n",
       "       Rk               Player Pos Age   Tm   G  GS    MP   FG  FGA  ...  \\\n",
       " 0      1  Shareef Abdur-Rahim  PF  31  SAC   6   0    51    3   14  ...   \n",
       " 1      2        Arron Afflalo  SG  22  DET  75   9   970   99  241  ...   \n",
       " 2      3         Maurice Ager  SG  23  TOT  26   3   165   21   65  ...   \n",
       " 3      3         Maurice Ager  SG  23  DAL  12   3    77    5   27  ...   \n",
       " 4      3         Maurice Ager  SG  23  NJN  14   0    88   16   38  ...   \n",
       " ..   ...                  ...  ..  ..  ...  ..  ..   ...  ...  ...  ...   \n",
       " 612  449      Lorenzen Wright   C  32  TOT  18   1   161    6   21  ...   \n",
       " 613  449      Lorenzen Wright   C  32  ATL  13   1   148    5   17  ...   \n",
       " 614  449      Lorenzen Wright   C  32  SAC   5   0    13    1    4  ...   \n",
       " 615  450           Nick Young  SG  22  WAS  75   2  1158  210  478  ...   \n",
       " 616  451       Thaddeus Young  PF  19  PHI  74  22  1554  264  490  ...   \n",
       " \n",
       "        FT%  ORB  DRB  TRB AST STL BLK TOV   PF  PTS  \n",
       " 0    1.000    6    4   10   4   1   0   1    9   10  \n",
       " 1     .782   36  101  137  52  31   8  34   83  276  \n",
       " 2     .500    4    9   13   8   0   1   6   17   51  \n",
       " 3     .833    1    3    4   4   0   1   3   11   15  \n",
       " 4     .167    3    6    9   4   0   0   3    6   36  \n",
       " ..     ...  ...  ...  ...  ..  ..  ..  ..  ...  ...  \n",
       " 612   .500    8   30   38   4   3   3   4   31   15  \n",
       " 613   .500    7   30   37   3   3   3   2   26   13  \n",
       " 614    NaN    1    0    1   1   0   0   2    5    2  \n",
       " 615   .815   23   92  115  63  35   7  94  130  561  \n",
       " 616   .738  120  192  312  58  73   8  64  126  610  \n",
       " \n",
       " [617 rows x 30 columns],\n",
       "       Rk           Player Pos Age   Tm   G  GS    MP   FG  FGA  ...   FT%  \\\n",
       " 0      1       Alex Acker  SG  26  TOT  25   0   199   30   76  ...  .500   \n",
       " 1      1       Alex Acker  SG  26  DET   7   0    20    4   11  ...  .500   \n",
       " 2      1       Alex Acker  SG  26  LAC  18   0   179   26   65  ...  .500   \n",
       " 3      2     Hassan Adams  SG  24  TOR  12   0    52    4   13  ...  .500   \n",
       " 4      3    Arron Afflalo  SG  23  DET  74   8  1234  131  300  ...  .817   \n",
       " ..   ...              ...  ..  ..  ...  ..  ..   ...  ...  ...  ...   ...   \n",
       " 599  441    Julian Wright  SF  21  NOH  54  19   772  109  234  ...  .567   \n",
       " 600  442  Lorenzen Wright   C  33  CLE  17   2   125   10   27  ...  .375   \n",
       " 601  443       Nick Young  SG  23  WAS  82   5  1837  336  756  ...  .850   \n",
       " 602  444   Thaddeus Young  PF  20  PHI  75  71  2580  475  960  ...  .735   \n",
       " 603  445          Sun Yue  SG  23  LAL  10   0    28    3   11  ...   NaN   \n",
       " \n",
       "      ORB  DRB  TRB AST  STL BLK  TOV   PF   PTS  \n",
       " 0      8   16   24  12    5   4    7    9    72  \n",
       " 1      0    2    2   1    2   1    0    0     9  \n",
       " 2      8   14   22  11    3   3    7    9    63  \n",
       " 3      1    6    7   1    1   1    4    4    11  \n",
       " 4     30  104  134  44   28  13   43  144   363  \n",
       " ..   ...  ...  ...  ..  ...  ..  ...  ...   ...  \n",
       " 599   46  106  152  43   35  19   43   49   237  \n",
       " 600    7   18   25   3    4   5    9   17    23  \n",
       " 601   31  119  150  95   39  20   92  140   892  \n",
       " 602  139  238  377  86  100  23  118  165  1145  \n",
       " 603    0    0    0   2    1   1    3   10     6  \n",
       " \n",
       " [604 rows x 30 columns],\n",
       "       Rk             Player  Pos  Age   Tm   G  GS    MP   FG   FGA  ...  \\\n",
       " 0      1      Arron Afflalo   SG   24  DEN  82  75  2221  272   585  ...   \n",
       " 1      2      Alexis Ajinça    C   21  CHA   6   0    30    5    10  ...   \n",
       " 2      3  LaMarcus Aldridge   PF   24  POR  78  78  2922  579  1169  ...   \n",
       " 3      4      Joe Alexander   SF   23  CHI   8   0    29    1     6  ...   \n",
       " 4      5        Malik Allen   PF   31  DEN  51   3   456   46   116  ...   \n",
       " ..   ...                ...  ...  ...  ...  ..  ..   ...  ...   ...  ...   \n",
       " 595  439      Julian Wright   SF   22  NOH  68  14   871  116   232  ...   \n",
       " 596  440         Nick Young   SG   24  WAS  74  23  1421  233   558  ...   \n",
       " 597   Rk             Player  Pos  Age   Tm   G  GS    MP   FG   FGA  ...   \n",
       " 598  441          Sam Young   SF   24  MEM  80   1  1321  224   497  ...   \n",
       " 599  442     Thaddeus Young   PF   21  PHI  67  45  2145  382   813  ...   \n",
       " \n",
       "       FT%  ORB  DRB  TRB  AST  STL  BLK  TOV   PF   PTS  \n",
       " 0    .735   59  193  252  138   46   30   74  225   724  \n",
       " 1    .000    1    3    4    0    1    1    2    5    10  \n",
       " 2    .757  192  435  627  160   67   48  104  231  1393  \n",
       " 3    .667    2    3    5    2    1    1    0    9     4  \n",
       " 4    .923   36   46   82   16   11    5   22   68   105  \n",
       " ..    ...  ...  ...  ...  ...  ...  ...  ...  ...   ...  \n",
       " 595  .610   58   86  144   41   29   18   44   45   259  \n",
       " 596  .800   20   82  102   48   28    8   56  147   639  \n",
       " 597   FT%  ORB  DRB  TRB  AST  STL  BLK  TOV   PF   PTS  \n",
       " 598  .777   77  124  201   52   34   20   94  106   595  \n",
       " 599  .691  130  220  350   97   81   15  126  133   926  \n",
       " \n",
       " [600 rows x 30 columns],\n",
       "       Rk          Player Pos Age   Tm   G  GS    MP   FG   FGA  ...   FT%  \\\n",
       " 0      1     Jeff Adrien  PF  24  GSW  23   0   196   23    54  ...  .579   \n",
       " 1      2   Arron Afflalo  SG  25  DEN  69  69  2324  312   627  ...  .847   \n",
       " 2      3    Maurice Ager  SG  26  MIN   4   0    29    6    11  ...   NaN   \n",
       " 3      4   Alexis Ajinça   C  22  TOT  34   2   340   59   133  ...  .722   \n",
       " 4      4   Alexis Ajinça   C  22  DAL  10   2    75   12    32  ...  .667   \n",
       " ..   ...             ...  ..  ..  ...  ..  ..   ...  ...   ...  ...   ...   \n",
       " 642  448   Dorell Wright  SF  25  GSW  82  82  3147  485  1146  ...  .789   \n",
       " 643  449   Julian Wright  SF  23  TOR  52   6   766   82   160  ...  .512   \n",
       " 644  450      Nick Young  SG  25  WAS  64  40  2034  412   935  ...  .816   \n",
       " 645  451       Sam Young  SF  25  MEM  78  46  1577  233   494  ...  .767   \n",
       " 646  452  Thaddeus Young  PF  22  PHI  82   1  2135  458   847  ...  .707   \n",
       " \n",
       "      ORB  DRB  TRB  AST  STL BLK  TOV   PF   PTS  \n",
       " 0     23   35   58   10    4   5    9   28    57  \n",
       " 1     45  206  251  168   34  31   71  153   867  \n",
       " 2      0    2    2    1    1   0    4    4    15  \n",
       " 3     17   61   78   10   11  19   18   73   143  \n",
       " 4      5   12   17    2    3   5    1   13    29  \n",
       " ..   ...  ...  ...  ...  ...  ..  ...  ...   ...  \n",
       " 642   88  343  431  242  124  63  133  171  1344  \n",
       " 643   47   71  118   58   39  20   43   45   188  \n",
       " 644   26  148  174   75   45  17   90  144  1115  \n",
       " 645   40  147  187   71   68  23   61  120   572  \n",
       " 646  153  281  434   82   90  26   99  170  1045  \n",
       " \n",
       " [647 rows x 30 columns],\n",
       "       Rk          Player Pos Age   Tm   G  GS    MP   FG  FGA  ...   FT%  ORB  \\\n",
       " 0      1     Jeff Adrien  PF  25  HOU   8   0    63    7   16  ...  .583    5   \n",
       " 1      2   Arron Afflalo  SG  26  DEN  62  62  2086  329  699  ...  .798   40   \n",
       " 2      3    Blake Ahearn  PG  27  UTA   4   0    30    4   14  ...   NaN    0   \n",
       " 3      4   Solomon Alabi   C  23  TOR  14   0   122   13   36  ...  .875   15   \n",
       " 4      5    Cole Aldrich   C  23  OKC  26   0   173   22   42  ...  .929   13   \n",
       " ..   ...             ...  ..  ..  ...  ..  ..   ...  ...  ...  ...   ...  ...   \n",
       " 569  476      Nick Young  SG  26  LAC  22   3   518   76  193  ...  .821   11   \n",
       " 570  477       Sam Young  SF  26  TOT  35   2   375   45  127  ...  .731   20   \n",
       " 571  477       Sam Young  SF  26  MEM  21   2   240   32   83  ...  .833   14   \n",
       " 572  477       Sam Young  SF  26  PHI  14   0   135   13   44  ...  .643    6   \n",
       " 573  478  Thaddeus Young  PF  23  PHI  63   1  1755  348  687  ...  .771  137   \n",
       " \n",
       "      DRB  TRB  AST STL BLK TOV   PF  PTS  \n",
       " 0     17   22    1   0   2   2   13   21  \n",
       " 1    157  197  149  36  13  85  134  943  \n",
       " 2      2    2    1   0   0   5    4   10  \n",
       " 3     32   47    3   2   9   5   11   33  \n",
       " 4     35   48    3   8  16   9   22   57  \n",
       " ..   ...  ...  ...  ..  ..  ..  ...  ...  \n",
       " 569   25   36   10  14   6  24   51  214  \n",
       " 570   42   62   15  17   6  16   23  114  \n",
       " 571   27   41    9  11   2   9   12   74  \n",
       " 572   15   21    6   6   4   7   11   40  \n",
       " 573  188  325   74  64  41  55  127  808  \n",
       " \n",
       " [574 rows x 30 columns],\n",
       "       Rk          Player Pos Age   Tm   G  GS    MP   FG  FGA  ...   FT%  ORB  \\\n",
       " 0      1      Quincy Acy  PF  22  TOR  29   0   342   42   75  ...  .816   30   \n",
       " 1      2     Jeff Adrien  PF  26  CHA  52   5   713   72  168  ...  .650   68   \n",
       " 2      3   Arron Afflalo  SF  27  ORL  64  64  2307  397  905  ...  .857   29   \n",
       " 3      4    Josh Akognon  PG  26  DAL   3   0     9    2    4  ...   NaN    0   \n",
       " 4      5    Cole Aldrich   C  24  TOT  45   0   388   44   80  ...  .600   30   \n",
       " ..   ...             ...  ..  ..  ...  ..  ..   ...  ...  ...  ...   ...  ...   \n",
       " 591  465      Nick Young  SG  27  PHI  59  17  1411  224  542  ...  .820   24   \n",
       " 592  466       Sam Young  SG  27  IND  56   3   693   58  148  ...  .535   26   \n",
       " 593  467  Thaddeus Young  PF  24  PHI  76  76  2629  509  958  ...  .574  182   \n",
       " 594  468     Luke Zeller   C  25  PHO  16   0    58    9   26  ...   NaN    1   \n",
       " 595  469    Tyler Zeller   C  23  CLE  77  55  2033  245  559  ...  .764  159   \n",
       " \n",
       "      DRB  TRB  AST  STL BLK  TOV   PF   PTS  \n",
       " 0     47   77   11   13  15   17   53   116  \n",
       " 1    128  196   36   18  27   32   80   209  \n",
       " 2    210  239  206   40  11  138  137  1057  \n",
       " 3      1    1    1    0   0    0    3     5  \n",
       " 4     90  120    9    5  23   23   60   100  \n",
       " ..   ...  ...  ...  ...  ..  ...  ...   ...  \n",
       " 591  106  130   84   36  14   50   84   628  \n",
       " 592   97  123   42   15   8   33   62   155  \n",
       " 593  389  571  125  133  55   90  191  1127  \n",
       " 594    9   10    3    0   0    0    5    19  \n",
       " 595  279  438   96   35  70   95  251   610  \n",
       " \n",
       " [596 rows x 30 columns],\n",
       "       Rk          Player  Pos  Age   Tm   G  GS    MP   FG   FGA  ...   FT%  \\\n",
       " 0      1      Quincy Acy   SF   23  TOT  63   0   847   66   141  ...  .660   \n",
       " 1      1      Quincy Acy   SF   23  TOR   7   0    61    6    14  ...  .625   \n",
       " 2      1      Quincy Acy   SF   23  SAC  56   0   786   60   127  ...  .667   \n",
       " 3      2    Steven Adams    C   20  OKC  81  20  1197   93   185  ...  .581   \n",
       " 4      3     Jeff Adrien   PF   27  TOT  53  12   961  143   275  ...  .639   \n",
       " ..   ...             ...  ...  ...  ...  ..  ..   ...  ...   ...  ...   ...   \n",
       " 630  479      Nick Young   SG   28  LAL  64   9  1810  387   889  ...  .825   \n",
       " 631  480  Thaddeus Young   PF   25  PHI  79  78  2718  582  1283  ...  .712   \n",
       " 632   Rk          Player  Pos  Age   Tm   G  GS    MP   FG   FGA  ...   FT%   \n",
       " 633  481     Cody Zeller    C   21  CHA  82   3  1416  172   404  ...  .730   \n",
       " 634  482    Tyler Zeller    C   24  CLE  70   9  1049  156   290  ...  .719   \n",
       " \n",
       "      ORB  DRB  TRB  AST  STL  BLK  TOV   PF   PTS  \n",
       " 0     72  144  216   28   23   26   30  122   171  \n",
       " 1      5   10   15    4    4    3    2    8    19  \n",
       " 2     67  134  201   24   19   23   28  114   152  \n",
       " 3    142  190  332   43   40   57   71  203   265  \n",
       " 4    102  204  306   38   24   36   39  108   362  \n",
       " ..   ...  ...  ...  ...  ...  ...  ...  ...   ...  \n",
       " 630   29  137  166   95   46   12   95  156  1144  \n",
       " 631  166  310  476  182  167   36  165  213  1417  \n",
       " 632  ORB  DRB  TRB  AST  STL  BLK  TOV   PF   PTS  \n",
       " 633  118  235  353   92   40   41   87  170   490  \n",
       " 634  103  179  282   36   18   38   60  137   399  \n",
       " \n",
       " [635 rows x 30 columns],\n",
       "       Rk          Player Pos Age   Tm   G  GS    MP   FG  FGA  ...   FT%  ORB  \\\n",
       " 0      1      Quincy Acy  PF  24  NYK  68  22  1287  152  331  ...  .784   79   \n",
       " 1      2    Jordan Adams  SG  20  MEM  30   0   248   35   86  ...  .609    9   \n",
       " 2      3    Steven Adams   C  21  OKC  70  67  1771  217  399  ...  .502  199   \n",
       " 3      4     Jeff Adrien  PF  28  MIN  17   0   215   19   44  ...  .579   23   \n",
       " 4      5   Arron Afflalo  SG  29  TOT  78  72  2502  375  884  ...  .843   27   \n",
       " ..   ...             ...  ..  ..  ...  ..  ..   ...  ...  ...  ...   ...  ...   \n",
       " 670  490  Thaddeus Young  PF  26  TOT  76  68  2434  451  968  ...  .655  127   \n",
       " 671  490  Thaddeus Young  PF  26  MIN  48  48  1605  289  641  ...  .682   75   \n",
       " 672  490  Thaddeus Young  PF  26  BRK  28  20   829  162  327  ...  .606   52   \n",
       " 673  491     Cody Zeller   C  22  CHO  62  45  1487  172  373  ...  .774   97   \n",
       " 674  492    Tyler Zeller   C  25  BOS  82  59  1731  340  619  ...  .823  146   \n",
       " \n",
       "      DRB  TRB  AST  STL BLK  TOV   PF   PTS  \n",
       " 0    222  301   68   27  22   60  147   398  \n",
       " 1     19   28   16   16   7   14   24    94  \n",
       " 2    324  523   66   38  86   99  222   537  \n",
       " 3     54   77   15    4   9    9   30    60  \n",
       " 4    220  247  129   41   7  116  167  1035  \n",
       " ..   ...  ...  ...  ...  ..  ...  ...   ...  \n",
       " 670  284  411  173  124  25  117  171  1071  \n",
       " 671  170  245  135   86  17   75  115   685  \n",
       " 672  114  166   38   38   8   42   56   386  \n",
       " 673  265  362  100   34  49   62  156   472  \n",
       " 674  319  465  113   18  52   76  205   833  \n",
       " \n",
       " [675 rows x 30 columns],\n",
       "       Rk          Player Pos Age   Tm   G  GS    MP   FG  FGA  ...   FT%  ORB  \\\n",
       " 0      1      Quincy Acy  PF  25  SAC  59  29   876  119  214  ...  .735   65   \n",
       " 1      2    Jordan Adams  SG  21  MEM   2   0    15    2    6  ...  .600    0   \n",
       " 2      3    Steven Adams   C  22  OKC  80  80  2014  261  426  ...  .582  219   \n",
       " 3      4   Arron Afflalo  SG  30  NYK  71  57  2371  354  799  ...  .840   23   \n",
       " 4      5   Alexis Ajinça   C  27  NOP  59  17   861  150  315  ...  .839   75   \n",
       " ..   ...             ...  ..  ..  ...  ..  ..   ...  ...  ...  ...   ...  ...   \n",
       " 596  472       Joe Young  PG  23  IND  41   0   384   62  169  ...  .800    6   \n",
       " 597  473      Nick Young  SG  30  LAL  54   2  1033  126  372  ...  .829   14   \n",
       " 598  474  Thaddeus Young  PF  27  BRK  73  73  2407  495  963  ...  .644  176   \n",
       " 599  475     Cody Zeller   C  23  CHO  73  60  1774  231  437  ...  .754  138   \n",
       " 600  476    Tyler Zeller   C  26  BOS  60   3   710  138  290  ...  .815   62   \n",
       " \n",
       "      DRB  TRB  AST  STL BLK  TOV   PF   PTS  \n",
       " 0    123  188   27   29  24   27  103   307  \n",
       " 1      2    2    3    3   0    2    2     7  \n",
       " 2    314  533   62   42  89   84  223   636  \n",
       " 3    243  266  144   25  10   82  142   909  \n",
       " 4    194  269   31   19  36   54  134   352  \n",
       " ..   ...  ...  ...  ...  ..  ...  ...   ...  \n",
       " 596   44   50   65   15   0   33   30   154  \n",
       " 597   83   97   34   23   7   30   50   392  \n",
       " 598  484  660  136  112  37  136  182  1102  \n",
       " 599  317  455   71   57  63   68  204   638  \n",
       " 600  116  178   29   10  22   46   97   364  \n",
       " \n",
       " [601 rows x 30 columns],\n",
       "       Rk             Player Pos Age   Tm   G  GS    MP   FG  FGA  ...   FT%  \\\n",
       " 0      1       Álex Abrines  SG  23  OKC  68   6  1055  134  341  ...  .898   \n",
       " 1      2         Quincy Acy  PF  26  TOT  38   1   558   70  170  ...  .750   \n",
       " 2      2         Quincy Acy  PF  26  DAL   6   0    48    5   17  ...  .667   \n",
       " 3      2         Quincy Acy  PF  26  BRK  32   1   510   65  153  ...  .754   \n",
       " 4      3       Steven Adams   C  23  OKC  80  80  2389  374  655  ...  .611   \n",
       " ..   ...                ...  ..  ..  ...  ..  ..   ...  ...  ...  ...   ...   \n",
       " 614  482        Cody Zeller   C  24  CHO  62  58  1725  253  443  ...  .679   \n",
       " 615  483       Tyler Zeller   C  27  BOS  51   5   525   78  158  ...  .564   \n",
       " 616  484  Stephen Zimmerman   C  20  ORL  19   0   108   10   31  ...  .600   \n",
       " 617  485        Paul Zipser  SF  22  CHI  44  18   843   88  221  ...  .775   \n",
       " 618  486        Ivica Zubac   C  19  LAL  38  11   609  126  238  ...  .653   \n",
       " \n",
       "      ORB  DRB  TRB AST STL BLK  TOV   PF  PTS  \n",
       " 0     18   68   86  40  37   8   33  114  406  \n",
       " 1     20   95  115  18  14  15   21   67  222  \n",
       " 2      2    6    8   0   0   0    2    9   13  \n",
       " 3     18   89  107  18  14  15   19   58  209  \n",
       " 4    281  332  613  86  89  78  146  195  905  \n",
       " ..   ...  ...  ...  ..  ..  ..  ...  ...  ...  \n",
       " 614  135  270  405  99  62  58   65  189  639  \n",
       " 615   43   81  124  42   7  21   20   61  178  \n",
       " 616   11   24   35   4   2   5    3   17   23  \n",
       " 617   15  110  125  36  15  16   40   78  240  \n",
       " 618   41  118  159  30  14  33   30   66  284  \n",
       " \n",
       " [619 rows x 30 columns],\n",
       "       Rk         Player Pos Age   Tm   G  GS    MP   FG  FGA  ...   FT%  ORB  \\\n",
       " 0      1   Álex Abrines  SG  24  OKC  75   8  1134  115  291  ...  .848   26   \n",
       " 1      2     Quincy Acy  PF  27  BRK  70   8  1359  130  365  ...  .817   40   \n",
       " 2      3   Steven Adams   C  24  OKC  76  76  2487  448  712  ...  .559  384   \n",
       " 3      4    Bam Adebayo   C  20  MIA  69  19  1368  174  340  ...  .721  118   \n",
       " 4      5  Arron Afflalo  SG  32  ORL  53   3   682   65  162  ...  .846    4   \n",
       " ..   ...            ...  ..  ..  ...  ..  ..   ...  ...  ...  ...   ...  ...   \n",
       " 685  537   Tyler Zeller   C  28  BRK  42  33   703  125  229  ...  .667   63   \n",
       " 686  537   Tyler Zeller   C  28  MIL  24   1   406   62  105  ...  .895   47   \n",
       " 687  538    Paul Zipser  SF  23  CHI  54  12   824   81  234  ...  .760   13   \n",
       " 688  539     Ante Žižić   C  21  CLE  32   2   214   49   67  ...  .724   24   \n",
       " 689  540    Ivica Zubac   C  20  LAL  43   0   410   61  122  ...  .765   45   \n",
       " \n",
       "      DRB  TRB  AST STL BLK  TOV   PF   PTS  \n",
       " 0     88  114   28  38   8   25  124   353  \n",
       " 1    217  257   57  33  29   60  149   411  \n",
       " 2    301  685   88  92  78  128  215  1056  \n",
       " 3    263  381  101  32  41   66  138   477  \n",
       " 4     62   66   30   4   9   21   56   179  \n",
       " ..   ...  ...  ...  ..  ..  ...  ...   ...  \n",
       " 685  131  194   28   8  21   35   78   300  \n",
       " 686   64  111   19   7  14   12   48   141  \n",
       " 687  118  131   46  20  15   43   86   218  \n",
       " 688   36   60    5   2  13   11   30   119  \n",
       " 689   78  123   25   8  15   26   47   161  \n",
       " \n",
       " [690 rows x 30 columns],\n",
       "       Rk        Player Pos Age   Tm   G  GS    MP   FG  FGA  ...   FT%  ORB  \\\n",
       " 0      1  Álex Abrines  SG  25  OKC  31   2   588   56  157  ...  .923    5   \n",
       " 1      2    Quincy Acy  PF  28  PHO  10   0   123    4   18  ...  .700    3   \n",
       " 2      3  Jaylen Adams  PG  22  ATL  34   1   428   38  110  ...  .778   11   \n",
       " 3      4  Steven Adams   C  25  OKC  80  80  2669  481  809  ...  .500  391   \n",
       " 4      5   Bam Adebayo   C  21  MIA  82  28  1913  280  486  ...  .735  165   \n",
       " ..   ...           ...  ..  ..  ...  ..  ..   ...  ...  ...  ...   ...  ...   \n",
       " 729  528  Tyler Zeller   C  29  MEM   4   1    82   16   28  ...  .778    9   \n",
       " 730  529    Ante Žižić   C  22  CLE  59  25  1082  183  331  ...  .705  108   \n",
       " 731  530   Ivica Zubac   C  21  TOT  59  37  1040  212  379  ...  .802  115   \n",
       " 732  530   Ivica Zubac   C  21  LAL  33  12   516  112  193  ...  .864   54   \n",
       " 733  530   Ivica Zubac   C  21  LAC  26  25   524  100  186  ...  .733   61   \n",
       " \n",
       "      DRB  TRB  AST  STL BLK  TOV   PF   PTS  \n",
       " 0     43   48   20   17   6   14   53   165  \n",
       " 1     22   25    8    1   4    4   24    17  \n",
       " 2     49   60   65   14   5   28   45   108  \n",
       " 3    369  760  124  117  76  135  204  1108  \n",
       " 4    432  597  184   71  65  121  203   729  \n",
       " ..   ...  ...  ...  ...  ..  ...  ...   ...  \n",
       " 729    9   18    3    1   3    4   16    46  \n",
       " 730  212  320   53   13  22   61  113   459  \n",
       " 731  247  362   63   14  51   70  137   525  \n",
       " 732  108  162   25    4  27   33   73   281  \n",
       " 733  139  200   38   10  24   37   64   244  \n",
       " \n",
       " [734 rows x 30 columns],\n",
       "       Rk                    Player Pos Age   Tm   G  GS    MP   FG   FGA  ...  \\\n",
       " 0      1              Steven Adams   C  26  OKC  63  63  1680  283   478  ...   \n",
       " 1      2               Bam Adebayo  PF  22  MIA  72  72  2417  440   790  ...   \n",
       " 2      3         LaMarcus Aldridge   C  34  SAS  53  53  1754  391   793  ...   \n",
       " 3      4            Kyle Alexander   C  23  MIA   2   0    13    1     2  ...   \n",
       " 4      5  Nickeil Alexander-Walker  SG  21  NOP  47   1   591   98   266  ...   \n",
       " ..   ...                       ...  ..  ..  ...  ..  ..   ...  ...   ...  ...   \n",
       " 672  525                Trae Young  PG  21  ATL  60  60  2120  546  1249  ...   \n",
       " 673  526               Cody Zeller   C  27  CHO  58  39  1341  251   479  ...   \n",
       " 674  527              Tyler Zeller   C  30  SAS   2   0     4    1     4  ...   \n",
       " 675  528                Ante Žižić   C  23  CLE  22   0   221   41    72  ...   \n",
       " 676  529               Ivica Zubac   C  22  LAC  72  70  1326  236   385  ...   \n",
       " \n",
       "       FT%  ORB  DRB  TRB  AST STL BLK  TOV   PF   PTS  \n",
       " 0    .582  207  376  583  146  51  67   94  122   684  \n",
       " 1    .691  176  559  735  368  82  93  204  182  1146  \n",
       " 2    .827  103  289  392  129  36  87   74  128  1001  \n",
       " 3     NaN    2    1    3    0   0   0    1    1     2  \n",
       " 4    .676    9   75   84   89  17   8   54   57   267  \n",
       " ..    ...  ...  ...  ...  ...  ..  ..  ...  ...   ...  \n",
       " 672  .860   32  223  255  560  65   8  289  104  1778  \n",
       " 673  .682  160  251  411   88  40  25   75  140   642  \n",
       " 674   NaN    3    1    4    0   0   0    0    0     2  \n",
       " 675  .737   18   48   66    6   7   5   10   27    96  \n",
       " 676  .747  197  346  543   82  16  66   61  168   596  \n",
       " \n",
       " [677 rows x 30 columns]]"
      ]
     },
     "metadata": {},
     "output_type": "display_data"
    }
   ],
   "source": [
    "import pandas as pd\n",
    "import numpy as np\n",
    "from requests import get\n",
    "from bs4 import BeautifulSoup\n",
    "import matplotlib.pyplot as plt\n",
    "from sklearn import linear_model \n",
    "\n",
    "y = 2000\n",
    "\n",
    "dss = []\n",
    "\n",
    "while y <= 2020:    \n",
    "    url = get('https://www.basketball-reference.com/leagues/NBA_' + str(y) + '_totals.html')\n",
    "    root = BeautifulSoup(url.content,'html5lib')\n",
    "    root.prettify()\n",
    "    table_url = root.find('table')\n",
    "    data = (pd.read_html(str(table_url)))\n",
    "    dfs = data[0]\n",
    "    dfs.columns = ['Rk', 'Player', 'Pos', 'Age', 'Tm', 'G', 'GS', 'MP', 'FG', 'FGA', 'FG%', '3P', '3PA', '3P%', '2P', '2PA', '2P%', 'eFG%', 'FT' , 'FTA', 'FT%', 'ORB', 'DRB', 'TRB', 'AST', 'STL', 'BLK', 'TOV', 'PF', 'PTS']\n",
    "    dss.append(dfs)\n",
    "    y += 1\n",
    "    \n",
    "display(dss)\n"
   ]
  },
  {
   "cell_type": "markdown",
   "id": "primary-revolution",
   "metadata": {},
   "source": [
    "Here is the list of all the data frames containing all of the nba players from each specific season."
   ]
  },
  {
   "cell_type": "markdown",
   "id": "representative-agency",
   "metadata": {},
   "source": [
    "Since my project is only focusing on the centers and power forward and their shooting stats, I am going to create a new data frame that will contain the centers and power forwards, their year, and their shooting stats. All of this data is extracted from the list of data frames that was shown above."
   ]
  },
  {
   "cell_type": "code",
   "execution_count": 196,
   "id": "falling-mixer",
   "metadata": {},
   "outputs": [
    {
     "data": {
      "text/html": [
       "<div>\n",
       "<style scoped>\n",
       "    .dataframe tbody tr th:only-of-type {\n",
       "        vertical-align: middle;\n",
       "    }\n",
       "\n",
       "    .dataframe tbody tr th {\n",
       "        vertical-align: top;\n",
       "    }\n",
       "\n",
       "    .dataframe thead th {\n",
       "        text-align: right;\n",
       "    }\n",
       "</style>\n",
       "<table border=\"1\" class=\"dataframe\">\n",
       "  <thead>\n",
       "    <tr style=\"text-align: right;\">\n",
       "      <th></th>\n",
       "      <th>Year</th>\n",
       "      <th>Player</th>\n",
       "      <th>Position</th>\n",
       "      <th>3 Pointers Made</th>\n",
       "      <th>3 Point Percentage</th>\n",
       "      <th>Free Throws Made</th>\n",
       "      <th>Free Throw Percentage</th>\n",
       "    </tr>\n",
       "  </thead>\n",
       "  <tbody>\n",
       "    <tr>\n",
       "      <th>0</th>\n",
       "      <td>2000</td>\n",
       "      <td>John Amaechi</td>\n",
       "      <td>C</td>\n",
       "      <td>1</td>\n",
       "      <td>.167</td>\n",
       "      <td>223</td>\n",
       "      <td>.766</td>\n",
       "    </tr>\n",
       "    <tr>\n",
       "      <th>1</th>\n",
       "      <td>2000</td>\n",
       "      <td>Chris Anstey</td>\n",
       "      <td>C</td>\n",
       "      <td>1</td>\n",
       "      <td>.167</td>\n",
       "      <td>116</td>\n",
       "      <td>.789</td>\n",
       "    </tr>\n",
       "    <tr>\n",
       "      <th>2</th>\n",
       "      <td>2000</td>\n",
       "      <td>Isaac Austin</td>\n",
       "      <td>C</td>\n",
       "      <td>1</td>\n",
       "      <td>.250</td>\n",
       "      <td>94</td>\n",
       "      <td>.686</td>\n",
       "    </tr>\n",
       "    <tr>\n",
       "      <th>3</th>\n",
       "      <td>2000</td>\n",
       "      <td>Anthony Avent</td>\n",
       "      <td>PF</td>\n",
       "      <td>0</td>\n",
       "      <td>NaN</td>\n",
       "      <td>23</td>\n",
       "      <td>.719</td>\n",
       "    </tr>\n",
       "    <tr>\n",
       "      <th>4</th>\n",
       "      <td>2000</td>\n",
       "      <td>Vin Baker</td>\n",
       "      <td>C</td>\n",
       "      <td>2</td>\n",
       "      <td>.250</td>\n",
       "      <td>281</td>\n",
       "      <td>.682</td>\n",
       "    </tr>\n",
       "    <tr>\n",
       "      <th>...</th>\n",
       "      <td>...</td>\n",
       "      <td>...</td>\n",
       "      <td>...</td>\n",
       "      <td>...</td>\n",
       "      <td>...</td>\n",
       "      <td>...</td>\n",
       "      <td>...</td>\n",
       "    </tr>\n",
       "    <tr>\n",
       "      <th>4917</th>\n",
       "      <td>2020</td>\n",
       "      <td>Thaddeus Young</td>\n",
       "      <td>PF</td>\n",
       "      <td>79</td>\n",
       "      <td>.356</td>\n",
       "      <td>42</td>\n",
       "      <td>.583</td>\n",
       "    </tr>\n",
       "    <tr>\n",
       "      <th>4918</th>\n",
       "      <td>2020</td>\n",
       "      <td>Cody Zeller</td>\n",
       "      <td>C</td>\n",
       "      <td>18</td>\n",
       "      <td>.240</td>\n",
       "      <td>122</td>\n",
       "      <td>.682</td>\n",
       "    </tr>\n",
       "    <tr>\n",
       "      <th>4919</th>\n",
       "      <td>2020</td>\n",
       "      <td>Tyler Zeller</td>\n",
       "      <td>C</td>\n",
       "      <td>0</td>\n",
       "      <td>NaN</td>\n",
       "      <td>0</td>\n",
       "      <td>NaN</td>\n",
       "    </tr>\n",
       "    <tr>\n",
       "      <th>4920</th>\n",
       "      <td>2020</td>\n",
       "      <td>Ante Žižić</td>\n",
       "      <td>C</td>\n",
       "      <td>0</td>\n",
       "      <td>NaN</td>\n",
       "      <td>14</td>\n",
       "      <td>.737</td>\n",
       "    </tr>\n",
       "    <tr>\n",
       "      <th>4921</th>\n",
       "      <td>2020</td>\n",
       "      <td>Ivica Zubac</td>\n",
       "      <td>C</td>\n",
       "      <td>0</td>\n",
       "      <td>.000</td>\n",
       "      <td>124</td>\n",
       "      <td>.747</td>\n",
       "    </tr>\n",
       "  </tbody>\n",
       "</table>\n",
       "<p>4922 rows × 7 columns</p>\n",
       "</div>"
      ],
      "text/plain": [
       "      Year          Player Position 3 Pointers Made 3 Point Percentage  \\\n",
       "0     2000    John Amaechi        C               1               .167   \n",
       "1     2000    Chris Anstey        C               1               .167   \n",
       "2     2000    Isaac Austin        C               1               .250   \n",
       "3     2000   Anthony Avent       PF               0                NaN   \n",
       "4     2000       Vin Baker        C               2               .250   \n",
       "...    ...             ...      ...             ...                ...   \n",
       "4917  2020  Thaddeus Young       PF              79               .356   \n",
       "4918  2020     Cody Zeller        C              18               .240   \n",
       "4919  2020    Tyler Zeller        C               0                NaN   \n",
       "4920  2020      Ante Žižić        C               0                NaN   \n",
       "4921  2020     Ivica Zubac        C               0               .000   \n",
       "\n",
       "     Free Throws Made Free Throw Percentage  \n",
       "0                 223                  .766  \n",
       "1                 116                  .789  \n",
       "2                  94                  .686  \n",
       "3                  23                  .719  \n",
       "4                 281                  .682  \n",
       "...               ...                   ...  \n",
       "4917               42                  .583  \n",
       "4918              122                  .682  \n",
       "4919                0                   NaN  \n",
       "4920               14                  .737  \n",
       "4921              124                  .747  \n",
       "\n",
       "[4922 rows x 7 columns]"
      ]
     },
     "metadata": {},
     "output_type": "display_data"
    }
   ],
   "source": [
    "nba_big_man_3_data = dict()\n",
    "nba_big_man_3_data['Year'] = list()\n",
    "nba_big_man_3_data['Player'] = list()\n",
    "nba_big_man_3_data['Position'] = list()\n",
    "nba_big_man_3_data['3 Pointers Made'] = list()\n",
    "nba_big_man_3_data['3 Point Percentage'] = list()\n",
    "nba_big_man_3_data['Free Throws Made'] = list()\n",
    "nba_big_man_3_data['Free Throw Percentage'] = list()\n",
    "\n",
    "y = 2000\n",
    "for i in dss:\n",
    "    for j in range(0, len(i['Pos'])):\n",
    "        if i['Pos'].values[j] == 'C' or i['Pos'].values[j] =='PF':\n",
    "            nba_big_man_3_data['Year'].append(y)\n",
    "            nba_big_man_3_data['Player'].append(i['Player'].values[j])\n",
    "            nba_big_man_3_data['Position'].append(i['Pos'].values[j])\n",
    "            nba_big_man_3_data['3 Pointers Made'].append(i['3P'].values[j])\n",
    "            nba_big_man_3_data['3 Point Percentage'].append(i['3P%'].values[j])\n",
    "            nba_big_man_3_data['Free Throws Made'].append(i['FT'].values[j])\n",
    "            nba_big_man_3_data['Free Throw Percentage'].append(i['FT%'].values[j])           \n",
    "    y += 1\n",
    "        \n",
    "\n",
    "nba_big_man_3_data = pd.DataFrame(nba_big_man_3_data, columns=['Year','Player','Position', '3 Pointers Made', '3 Point Percentage', 'Free Throws Made', 'Free Throw Percentage'])\n",
    "display(nba_big_man_3_data)\n"
   ]
  },
  {
   "cell_type": "markdown",
   "id": "international-philadelphia",
   "metadata": {},
   "source": [
    "Now we have our main data frame that contains the extracted data we need for this tutorial."
   ]
  },
  {
   "cell_type": "markdown",
   "id": "occupied-doubt",
   "metadata": {},
   "source": [
    "# DATA TIDYING AND CLEANING / DATA PROCESSING"
   ]
  },
  {
   "cell_type": "markdown",
   "id": "satisfied-induction",
   "metadata": {},
   "source": [
    "However, there is a problem. As you can see on the data frame above, there is some missing data, labeled as NaN. We must clean this data and since we are dealing with data involving field goal percentages and a number of feal goals made by the players, there is no way we can make up those numbers, especially for the NBA. So must remove any rows containing NaN values, which is done before."
   ]
  },
  {
   "cell_type": "code",
   "execution_count": 197,
   "id": "extended-export",
   "metadata": {},
   "outputs": [
    {
     "data": {
      "text/html": [
       "<div>\n",
       "<style scoped>\n",
       "    .dataframe tbody tr th:only-of-type {\n",
       "        vertical-align: middle;\n",
       "    }\n",
       "\n",
       "    .dataframe tbody tr th {\n",
       "        vertical-align: top;\n",
       "    }\n",
       "\n",
       "    .dataframe thead th {\n",
       "        text-align: right;\n",
       "    }\n",
       "</style>\n",
       "<table border=\"1\" class=\"dataframe\">\n",
       "  <thead>\n",
       "    <tr style=\"text-align: right;\">\n",
       "      <th></th>\n",
       "      <th>index</th>\n",
       "      <th>Year</th>\n",
       "      <th>Player</th>\n",
       "      <th>Position</th>\n",
       "      <th>3 Pointers Made</th>\n",
       "      <th>3 Point Percentage</th>\n",
       "      <th>Free Throws Made</th>\n",
       "      <th>Free Throw Percentage</th>\n",
       "    </tr>\n",
       "  </thead>\n",
       "  <tbody>\n",
       "    <tr>\n",
       "      <th>0</th>\n",
       "      <td>0</td>\n",
       "      <td>2000</td>\n",
       "      <td>John Amaechi</td>\n",
       "      <td>C</td>\n",
       "      <td>1</td>\n",
       "      <td>.167</td>\n",
       "      <td>223</td>\n",
       "      <td>.766</td>\n",
       "    </tr>\n",
       "    <tr>\n",
       "      <th>1</th>\n",
       "      <td>1</td>\n",
       "      <td>2000</td>\n",
       "      <td>Chris Anstey</td>\n",
       "      <td>C</td>\n",
       "      <td>1</td>\n",
       "      <td>.167</td>\n",
       "      <td>116</td>\n",
       "      <td>.789</td>\n",
       "    </tr>\n",
       "    <tr>\n",
       "      <th>2</th>\n",
       "      <td>2</td>\n",
       "      <td>2000</td>\n",
       "      <td>Isaac Austin</td>\n",
       "      <td>C</td>\n",
       "      <td>1</td>\n",
       "      <td>.250</td>\n",
       "      <td>94</td>\n",
       "      <td>.686</td>\n",
       "    </tr>\n",
       "    <tr>\n",
       "      <th>3</th>\n",
       "      <td>4</td>\n",
       "      <td>2000</td>\n",
       "      <td>Vin Baker</td>\n",
       "      <td>C</td>\n",
       "      <td>2</td>\n",
       "      <td>.250</td>\n",
       "      <td>281</td>\n",
       "      <td>.682</td>\n",
       "    </tr>\n",
       "    <tr>\n",
       "      <th>4</th>\n",
       "      <td>5</td>\n",
       "      <td>2000</td>\n",
       "      <td>Charles Barkley*</td>\n",
       "      <td>PF</td>\n",
       "      <td>6</td>\n",
       "      <td>.231</td>\n",
       "      <td>71</td>\n",
       "      <td>.645</td>\n",
       "    </tr>\n",
       "    <tr>\n",
       "      <th>...</th>\n",
       "      <td>...</td>\n",
       "      <td>...</td>\n",
       "      <td>...</td>\n",
       "      <td>...</td>\n",
       "      <td>...</td>\n",
       "      <td>...</td>\n",
       "      <td>...</td>\n",
       "      <td>...</td>\n",
       "    </tr>\n",
       "    <tr>\n",
       "      <th>3216</th>\n",
       "      <td>4915</td>\n",
       "      <td>2020</td>\n",
       "      <td>D.J. Wilson</td>\n",
       "      <td>PF</td>\n",
       "      <td>18</td>\n",
       "      <td>.247</td>\n",
       "      <td>11</td>\n",
       "      <td>.611</td>\n",
       "    </tr>\n",
       "    <tr>\n",
       "      <th>3217</th>\n",
       "      <td>4916</td>\n",
       "      <td>2020</td>\n",
       "      <td>Christian Wood</td>\n",
       "      <td>PF</td>\n",
       "      <td>54</td>\n",
       "      <td>.386</td>\n",
       "      <td>180</td>\n",
       "      <td>.744</td>\n",
       "    </tr>\n",
       "    <tr>\n",
       "      <th>3218</th>\n",
       "      <td>4917</td>\n",
       "      <td>2020</td>\n",
       "      <td>Thaddeus Young</td>\n",
       "      <td>PF</td>\n",
       "      <td>79</td>\n",
       "      <td>.356</td>\n",
       "      <td>42</td>\n",
       "      <td>.583</td>\n",
       "    </tr>\n",
       "    <tr>\n",
       "      <th>3219</th>\n",
       "      <td>4918</td>\n",
       "      <td>2020</td>\n",
       "      <td>Cody Zeller</td>\n",
       "      <td>C</td>\n",
       "      <td>18</td>\n",
       "      <td>.240</td>\n",
       "      <td>122</td>\n",
       "      <td>.682</td>\n",
       "    </tr>\n",
       "    <tr>\n",
       "      <th>3220</th>\n",
       "      <td>4921</td>\n",
       "      <td>2020</td>\n",
       "      <td>Ivica Zubac</td>\n",
       "      <td>C</td>\n",
       "      <td>0</td>\n",
       "      <td>.000</td>\n",
       "      <td>124</td>\n",
       "      <td>.747</td>\n",
       "    </tr>\n",
       "  </tbody>\n",
       "</table>\n",
       "<p>3221 rows × 8 columns</p>\n",
       "</div>"
      ],
      "text/plain": [
       "      index  Year            Player Position 3 Pointers Made  \\\n",
       "0         0  2000      John Amaechi        C               1   \n",
       "1         1  2000      Chris Anstey        C               1   \n",
       "2         2  2000      Isaac Austin        C               1   \n",
       "3         4  2000         Vin Baker        C               2   \n",
       "4         5  2000  Charles Barkley*       PF               6   \n",
       "...     ...   ...               ...      ...             ...   \n",
       "3216   4915  2020       D.J. Wilson       PF              18   \n",
       "3217   4916  2020    Christian Wood       PF              54   \n",
       "3218   4917  2020    Thaddeus Young       PF              79   \n",
       "3219   4918  2020       Cody Zeller        C              18   \n",
       "3220   4921  2020       Ivica Zubac        C               0   \n",
       "\n",
       "     3 Point Percentage Free Throws Made Free Throw Percentage  \n",
       "0                  .167              223                  .766  \n",
       "1                  .167              116                  .789  \n",
       "2                  .250               94                  .686  \n",
       "3                  .250              281                  .682  \n",
       "4                  .231               71                  .645  \n",
       "...                 ...              ...                   ...  \n",
       "3216               .247               11                  .611  \n",
       "3217               .386              180                  .744  \n",
       "3218               .356               42                  .583  \n",
       "3219               .240              122                  .682  \n",
       "3220               .000              124                  .747  \n",
       "\n",
       "[3221 rows x 8 columns]"
      ]
     },
     "metadata": {},
     "output_type": "display_data"
    }
   ],
   "source": [
    "nba_big_man_3_data = nba_big_man_3_data.dropna()\n",
    "nba_big_man_3_data = nba_big_man_3_data.reset_index()\n",
    "display(nba_big_man_3_data)"
   ]
  },
  {
   "cell_type": "markdown",
   "id": "french-front",
   "metadata": {},
   "source": [
    "Although the data frame has far fewer subjects than before, the data is cleaned and there are no missing values."
   ]
  },
  {
   "cell_type": "markdown",
   "id": "guilty-catalog",
   "metadata": {},
   "source": [
    "# EXPLORATORY DATA ANALYSIS AND DATA VISUALIZATION"
   ]
  },
  {
   "cell_type": "markdown",
   "id": "thirty-tribe",
   "metadata": {},
   "source": [
    "Now for the important part. It is time to visualize and analyze the data. First let us see the trend of how many threes were shot by Centers and Power Forwards over the years."
   ]
  },
  {
   "cell_type": "code",
   "execution_count": 198,
   "id": "physical-advocate",
   "metadata": {},
   "outputs": [
    {
     "data": {
      "text/plain": [
       "Text(0, 0.5, 'Total Three Pointers Made')"
      ]
     },
     "execution_count": 198,
     "metadata": {},
     "output_type": "execute_result"
    },
    {
     "data": {
      "image/png": "[encoded data removed]",
      "text/plain": [
       "<Figure size 720x1080 with 1 Axes>"
      ]
     },
     "metadata": {
      "needs_background": "light"
     },
     "output_type": "display_data"
    }
   ],
   "source": [
    "years = np.arange(21)\n",
    "for i in range(0, len(years)):\n",
    "    years[i] = 2000 + years[i]   \n",
    "threes = []   \n",
    "for y in years:\n",
    "    th = 0\n",
    "    for i in range(0, len(nba_big_man_3_data['3 Pointers Made'])):\n",
    "        if int(nba_big_man_3_data['Year'].values[i]) == y:\n",
    "            th += int(nba_big_man_3_data['3 Pointers Made'].values[i])\n",
    "    threes.append(th)    \n",
    "threes = np.array(threes)\n",
    "plt.figure(figsize=(10,15))\n",
    "plt.scatter(years, threes)\n",
    "plt.title('Total Threes made by C/PF over the years in NBA')\n",
    "plt.xlabel('Year')\n",
    "plt.ylabel('Total Three Pointers Made')"
   ]
  },
  {
   "cell_type": "markdown",
   "id": "careful-connection",
   "metadata": {},
   "source": [
    "Well, this is interesting, as you can see in the graph above, the number of threes shot by centers and power forwards slightly increases over time based on the time period from 2002 to around 2010, then it decays over time until 2013 and goes back up. However, around 2015, the number of three-pointers shot by centers and power forwards skyrocketed significantly and is rapidly increasing from that point onward, which is insane. This cannot be a coincidence. Around the time between 2015 and 2016, one of the most influential and popular basketball players, Stephen Curry, known for his godlike three-point shooting, rose in popularity and shocked the league with his record-breaking three-point shooting. The \"star really rose when he started to attempt more three-point shots per game, and also from areas on the court where he statistically was more likely to score,\" causing other teams and players to see the benefits of making a lot of three-point shots, and thus bringing in shooting elements to their playstyle (Rob, 2020). It is no coincidence that his playstyle has affected the way other players play in the NBA as ever since around the time of 2016, more players have been shooting more threes and have been improving their jump shots. Because of the impact, Curry had on the NBA, even the big, tall players have begun to shoot more threes and even make more threes hence why the number of three-point shots made by these centers in power forwards has been drastically increasing since 2015."
   ]
  },
  {
   "cell_type": "markdown",
   "id": "thick-cruise",
   "metadata": {},
   "source": [
    "Now let’s form a line of best fit for this graph, using the linear regression model to calculate the slope and intercept of this relationship between time and the total amount of threes shot by centers in pounds"
   ]
  },
  {
   "cell_type": "code",
   "execution_count": 199,
   "id": "norwegian-timing",
   "metadata": {},
   "outputs": [
    {
     "name": "stdout",
     "output_type": "stream",
     "text": [
      "y = 289.33766233766227*x + -578363.2727272726\n",
      "0.6646584105597761\n"
     ]
    },
    {
     "data": {
      "text/plain": [
       "[<matplotlib.lines.Line2D at 0x7fa1f8d0f1c0>]"
      ]
     },
     "execution_count": 199,
     "metadata": {},
     "output_type": "execute_result"
    },
    {
     "data": {
      "image/png": "[encoded data removed]",
      "text/plain": [
       "<Figure size 720x1080 with 1 Axes>"
      ]
     },
     "metadata": {
      "needs_background": "light"
     },
     "output_type": "display_data"
    }
   ],
   "source": [
    "regression = linear_model.LinearRegression()\n",
    "years_for_reg = np.array([[y] for y in years])\n",
    "threes_for_reg = np.array([[th] for th in threes])\n",
    "regression_fit = regression.fit(years_for_reg, threes_for_reg)\n",
    "m = regression_fit.coef_[0][0]\n",
    "b = regression_fit.intercept_[0]\n",
    "print('y = ' + str(m) + '*x + ' + str(b))\n",
    "predictions = [m*i + b for i in years]\n",
    "corrM = np.corrcoef(threes, predictions)\n",
    "cor = corrM[0,1]\n",
    "R_sq = cor**2\n",
    "\n",
    "print(R_sq)\n",
    "\n",
    "plt.figure(figsize=(10,15))\n",
    "plt.scatter(years, threes)\n",
    "plt.title('Total Threes made by C/PF over the years in NBA')\n",
    "plt.xlabel('Year')\n",
    "plt.ylabel('Total Three Pointers Made')\n",
    "plt.plot(years, years*m + b)"
   ]
  },
  {
   "cell_type": "markdown",
   "id": "offshore-subdivision",
   "metadata": {},
   "source": [
    "Based on the regression model’s output, for every one year passed, the total number of three-pointers made by centers in power forwards in the NBA increased by around 289. You can see based on the line that there is a moderately strong positive relationship between years and the total number of three-pointers made, which should come as no surprise. The coefficient of determination is 0.665, which means that around 66.5% of the variation in the total number of three-pointers made by centers and power forwards can be predicted by time using linear regression, which is not bad."
   ]
  },
  {
   "cell_type": "markdown",
   "id": "significant-uncertainty",
   "metadata": {},
   "source": [
    "Now to ensure that there is indeed a linear relationship between time and the total number of threes shot by the big men in the league, we will conduct a hypothesis test and calculate the p-value.\n",
    "\n",
    "Ho: There is no linear relationship between time and the total number of threes shot by Centers and Power Forwards (B = 0)\n",
    "\n",
    "Ha: There is a linear relationship between time and the total number of threes shot by Centers and Power Forwards (B != 0)\n",
    "\n",
    "Based on the line of best fit calculated above, the B for this sample is 289.\n",
    "\n",
    "Now let’s calculate the p-value."
   ]
  },
  {
   "cell_type": "code",
   "execution_count": 200,
   "id": "unlike-missouri",
   "metadata": {},
   "outputs": [
    {
     "name": "stdout",
     "output_type": "stream",
     "text": [
      "6.7260701365308296e-06\n"
     ]
    }
   ],
   "source": [
    "from scipy import stats\n",
    "\n",
    "p_value = stats.linregress(years, threes)[3]\n",
    "print(p_value) "
   ]
  },
  {
   "cell_type": "markdown",
   "id": "refined-security",
   "metadata": {},
   "source": [
    "Our p-value is significantly small and close to 0. Based on this, it is much smaller than 0.05, which is a level of significance. Therefore, we reject the null hypothesis. There is strong evidence that there is a positive linear relationship between time in years and the total number of three-pointers made by centers and power forwards. This should prove that indeed more threes were shot and made by the big men in the NBA."
   ]
  },
  {
   "cell_type": "markdown",
   "id": "favorite-relay",
   "metadata": {},
   "source": [
    "Now although the total number of threes shot and made by centers and power forwards have rapidly increased over time, what about the shooting percentage? Shooting percentage is very important data to consider because a bad field-goal percentage is no good especially in the NBA. Let’s see how the average three-point shooting percentage of every Center and Power forward in their respective season changed over time."
   ]
  },
  {
   "cell_type": "code",
   "execution_count": 201,
   "id": "sacred-conditioning",
   "metadata": {},
   "outputs": [
    {
     "data": {
      "text/plain": [
       "Text(0, 0.5, 'Three Point %')"
      ]
     },
     "execution_count": 201,
     "metadata": {},
     "output_type": "execute_result"
    },
    {
     "data": {
      "image/png": "[encoded data removed]",
      "text/plain": [
       "<Figure size 720x1080 with 1 Axes>"
      ]
     },
     "metadata": {
      "needs_background": "light"
     },
     "output_type": "display_data"
    }
   ],
   "source": [
    "three_percent = []\n",
    "for y in years:\n",
    "    ll = list()\n",
    "    for i in range(0, len(nba_big_man_3_data['3 Point Percentage'])):\n",
    "        if int(nba_big_man_3_data['Year'].values[i]) == y:\n",
    "            ll.append(float(nba_big_man_3_data['3 Point Percentage'].values[i]))\n",
    "    ll = np.array(ll)\n",
    "    mean_percent = np.mean(ll)\n",
    "    three_percent.append(mean_percent)   \n",
    "three_percent = np.array(three_percent)\n",
    "plt.figure(figsize=(10,15))\n",
    "plt.scatter(years, three_percent)\n",
    "plt.title('Three Point Percentage shot by C/PF over the years in NBA')\n",
    "plt.xlabel('Year')\n",
    "plt.ylabel('Three Point %')"
   ]
  },
  {
   "cell_type": "markdown",
   "id": "educated-dallas",
   "metadata": {},
   "source": [
    "Based on the graph, the data is scattered around between 2000 and 2010. There’s no visual positive relationship between the average three-point percentage and time in the period between 2000 and 2010. However, just like the graph involving a total number of three-point field goals made by the big man in the league, The average three-point percentage started to significantly increase from 2015 and onward. This shows again how Stephen Curry impacted the NBA during the time around 2016, causing more players including centers in power forwards to be shooting the three-point ball more frequently and most importantly, more accurately as well.\n"
   ]
  },
  {
   "cell_type": "markdown",
   "id": "expensive-stevens",
   "metadata": {},
   "source": [
    "Now let’s form a line of best fit for this graph, using the linear regression model to calculate the slope and intercept of this relationship between time and the average three-point percentage of Centers and Power Forwards."
   ]
  },
  {
   "cell_type": "code",
   "execution_count": 202,
   "id": "advance-module",
   "metadata": {},
   "outputs": [
    {
     "name": "stdout",
     "output_type": "stream",
     "text": [
      "y = 0.005426826992254635*x + -10.699979874558709\n",
      "0.6485868739499515\n"
     ]
    },
    {
     "data": {
      "text/plain": [
       "[<matplotlib.lines.Line2D at 0x7fa1eb4f9460>]"
      ]
     },
     "execution_count": 202,
     "metadata": {},
     "output_type": "execute_result"
    },
    {
     "data": {
      "image/png": "[encoded data removed]",
      "text/plain": [
       "<Figure size 720x1080 with 1 Axes>"
      ]
     },
     "metadata": {
      "needs_background": "light"
     },
     "output_type": "display_data"
    }
   ],
   "source": [
    "regression = linear_model.LinearRegression()\n",
    "years_for_reg = np.array([[y] for y in years])\n",
    "threep_for_reg = np.array([[th] for th in three_percent])\n",
    "regression_fit = regression.fit(years_for_reg, threep_for_reg)\n",
    "m = regression_fit.coef_[0][0]\n",
    "b = regression_fit.intercept_[0]\n",
    "print('y = ' + str(m) + '*x + ' + str(b))\n",
    "predictions = [m*i + b for i in years]\n",
    "corrM = np.corrcoef(three_percent, predictions)\n",
    "cor = corrM[0,1]\n",
    "R_sq = cor**2\n",
    "\n",
    "print(R_sq)\n",
    "\n",
    "plt.figure(figsize=(10,15))\n",
    "plt.scatter(years, three_percent)\n",
    "plt.title('Three Point Percentage shot by C/PF over the years in NBA')\n",
    "plt.xlabel('Year')\n",
    "plt.ylabel('Three Point %')\n",
    "plt.plot(years, years*m + b)"
   ]
  },
  {
   "cell_type": "markdown",
   "id": "pressed-signal",
   "metadata": {},
   "source": [
    "Based on the regression model’s output, for every one year passed, the average three-point percentage by centers and power forwards in the NBA increased by around .005 (0.5 %). You can see based on the line that there is a moderately strong positive relationship between years and the average three-point percentage. The coefficient of determination is 0.649, which means that around 64.9% of the variation in the average three-point percentage by centers and power forwards can be predicted by time using linear regression, which is not bad."
   ]
  },
  {
   "cell_type": "markdown",
   "id": "arctic-musician",
   "metadata": {},
   "source": [
    "Now to ensure that there is indeed a linear relationship between time and the average three-point percentage for the big men in the league, we will conduct a hypothesis test and calculate the p-value.\n",
    "\n",
    "Ho: There is no linear relationship between time and the average three-point percentage by Centers and Power Forwards (B = 0)\n",
    "\n",
    "Ha: There is a linear relationship between time and the average three-point percentage by Centers and Power Forwards (B != 0)\n",
    "\n",
    "Based on the line of best fit calculated above, the B for this sample is 0.005.\n",
    "\n",
    "Now let’s calculate the p-value.\n"
   ]
  },
  {
   "cell_type": "code",
   "execution_count": 203,
   "id": "equipped-brunswick",
   "metadata": {},
   "outputs": [
    {
     "name": "stdout",
     "output_type": "stream",
     "text": [
      "1.0605247836636565e-05\n"
     ]
    }
   ],
   "source": [
    "p_value = stats.linregress(years, three_percent)[3]\n",
    "print(p_value)"
   ]
  },
  {
   "cell_type": "markdown",
   "id": "constant-prize",
   "metadata": {},
   "source": [
    "Our p-value is significantly small and close to 0. Based on this, it is much smaller than 0.05, which is the level of significance. Therefore, we reject the null hypothesis. There is strong evidence that there is a positive linear relationship between time in years and the average three-point percentage by Centers and Power Forwards. This shows that not only has the big men in the NBA shot more threes than ever before, but their shooting percentage improved as well. Although the current shooting percentage for the centers and power forwards right now is around 30%, which is slightly below the overall average three-point percentage that is around 35%, based on this trend shown and analyzed, the big men's three-point percentage could soon meet that mark."
   ]
  },
  {
   "cell_type": "markdown",
   "id": "separate-tumor",
   "metadata": {},
   "source": [
    "So now that we know for certain that centers and power forwards have shot the three-ball more efficiently over time, how about their free throws? Logically speaking, if their three-point shot got better then their free throws should be better as well since it is much easier to make a free-throw than to make a three-point shot. Let’s make a graph that will first show how the total number of free throws made by centers and power forwards changed over time."
   ]
  },
  {
   "cell_type": "code",
   "execution_count": 204,
   "id": "prospective-student",
   "metadata": {},
   "outputs": [
    {
     "data": {
      "text/plain": [
       "Text(0, 0.5, 'Free Throws Made')"
      ]
     },
     "execution_count": 204,
     "metadata": {},
     "output_type": "execute_result"
    },
    {
     "data": {
      "image/png": "[encoded data removed]",
      "text/plain": [
       "<Figure size 720x1080 with 1 Axes>"
      ]
     },
     "metadata": {
      "needs_background": "light"
     },
     "output_type": "display_data"
    }
   ],
   "source": [
    "freethrows = []    \n",
    "for y in years:\n",
    "    th = 0\n",
    "    for i in range(0, len(nba_big_man_3_data['Free Throws Made'])):\n",
    "        if int(nba_big_man_3_data['Year'].values[i]) == y:\n",
    "            th += int(nba_big_man_3_data['Free Throws Made'].values[i])\n",
    "    freethrows.append(th)  \n",
    "freethrows = np.array(freethrows)\n",
    "plt.figure(figsize=(10,15))\n",
    "plt.scatter(years, freethrows)\n",
    "plt.title('Total Free Throws made by C/PF over the years')\n",
    "plt.xlabel('Year')\n",
    "plt.ylabel('Free Throws Made')"
   ]
  },
  {
   "cell_type": "markdown",
   "id": "interior-testing",
   "metadata": {},
   "source": [
    "Based on this graph, there doesn't seem to be any relationship between the total number of free throws made by centers and power forwards over the years. The data is scattered around and the very little trend seems to be visible. This may not be surprising because free throws only occur when the players are fouled or their opponent underwent a technical foul. Fouls always happen randomly in every NBA season so you cannot exactly predict how many fouls there will be over time. One season could have many fouls and thus many free throws shot and made and another season could have a much less number of fouls and thus fewer free throws being shot and made. Based on this, you could say that the number of fouls/free throws did slightly increase from 2000 to 2021, but it is not enough to show a linear relationship."
   ]
  },
  {
   "cell_type": "markdown",
   "id": "lightweight-positive",
   "metadata": {},
   "source": [
    "Speaking of linear relationships let’s plot a line of best fit in the graph above to show how there is little to no linear relationship between the total number of free throws made by centers and power forwards and time in years."
   ]
  },
  {
   "cell_type": "code",
   "execution_count": 205,
   "id": "medieval-religious",
   "metadata": {},
   "outputs": [
    {
     "name": "stdout",
     "output_type": "stream",
     "text": [
      "y = 41.7103896103896*x + -68736.54978354977\n",
      "0.027716654951389093\n"
     ]
    },
    {
     "data": {
      "text/plain": [
       "[<matplotlib.lines.Line2D at 0x7fa1eacb9880>]"
      ]
     },
     "execution_count": 205,
     "metadata": {},
     "output_type": "execute_result"
    },
    {
     "data": {
      "image/png": "[encoded data removed]",
      "text/plain": [
       "<Figure size 720x1080 with 1 Axes>"
      ]
     },
     "metadata": {
      "needs_background": "light"
     },
     "output_type": "display_data"
    }
   ],
   "source": [
    "regression = linear_model.LinearRegression()\n",
    "years_for_reg = np.array([[y] for y in years])\n",
    "free_throws_for_reg = np.array([[th] for th in freethrows])\n",
    "regression_fit = regression.fit(years_for_reg, free_throws_for_reg)\n",
    "m = regression_fit.coef_[0][0]\n",
    "b = regression_fit.intercept_[0]\n",
    "print('y = ' + str(m) + '*x + ' + str(b))\n",
    "predictions = [m*i + b for i in years]\n",
    "corrM = np.corrcoef(freethrows, predictions)\n",
    "cor = corrM[0,1]\n",
    "R_sq = cor**2\n",
    "\n",
    "print(R_sq)\n",
    "\n",
    "plt.figure(figsize=(10,15))\n",
    "plt.scatter(years, freethrows)\n",
    "plt.title('Total Free Throws made by C/PF over the years')\n",
    "plt.xlabel('Year')\n",
    "plt.ylabel('Free Throws Made')\n",
    "plt.plot(years, years*m + b)"
   ]
  },
  {
   "cell_type": "markdown",
   "id": "younger-vampire",
   "metadata": {},
   "source": [
    "Based on the regression model’s output, for every one year passed, the total number of free-throw shots made by centers and power forwards increased by 41.71. You can see based on the line that there is a very weak positive linear relationship between the total number of free throws made and time. The coefficient of determination is 0.028, which means that around 2.8% of the variation in the total number of free throws made by centers and power forwards can be predicted by time using linear regression. With such a low coefficient of determination, there is little to no relationship between free throws and time since as stated, the number of fouls on the NBA's big players is random every season."
   ]
  },
  {
   "cell_type": "markdown",
   "id": "sharing-price",
   "metadata": {},
   "source": [
    "To verify this weak relationship let’s do the hypothesis test once again.\n",
    "\n",
    "Ho: There is no linear relationship between time and the total number of free throws made by Centers and Power Forwards (B = 0)\n",
    "\n",
    "Ha: There is a linear relationship between time and the total number of free throws made by Centers and Power Forwards (B != 0)\n",
    "\n",
    "Based on the line of best fit calculated above, the B for this sample is 41.71.\n",
    "\n",
    "Now let’s calculate the p-value."
   ]
  },
  {
   "cell_type": "code",
   "execution_count": 206,
   "id": "becoming-thanksgiving",
   "metadata": {},
   "outputs": [
    {
     "name": "stdout",
     "output_type": "stream",
     "text": [
      "0.4707475684441681\n"
     ]
    }
   ],
   "source": [
    "p_value = stats.linregress(years, freethrows)[3]\n",
    "print(p_value)"
   ]
  },
  {
   "cell_type": "markdown",
   "id": "bizarre-postage",
   "metadata": {},
   "source": [
    "Our p-value this time is very large. Much larger than 0.05 for our significance level. Because of this, we failed to reject the null hypothesis. There is insufficient evidence that there is a linear relationship between time and the total number of free throws made by Centers and Power Forwards. Once again, time can't really predict the number of fouls on the big men and thus the number of free throws they make in each NBA season."
   ]
  },
  {
   "cell_type": "markdown",
   "id": "parliamentary-labor",
   "metadata": {},
   "source": [
    "So now although there isn't really a relationship between the number of free throws made by center and power forwards and the years that go by, it is still possible to see how their free throw shooting percentage changed over time. As stated before, since it was proven that the big men's three-point shooting percentage has been rapidly improving, then by logic their overall free throw percentage should be improving as well. Let’s visualize with a graph to see this trend."
   ]
  },
  {
   "cell_type": "code",
   "execution_count": 207,
   "id": "dutch-nursery",
   "metadata": {},
   "outputs": [
    {
     "data": {
      "text/plain": [
       "Text(0, 0.5, 'Free Throws Percentage')"
      ]
     },
     "execution_count": 207,
     "metadata": {},
     "output_type": "execute_result"
    },
    {
     "data": {
      "image/png": "[encoded data removed]",
      "text/plain": [
       "<Figure size 720x1080 with 1 Axes>"
      ]
     },
     "metadata": {
      "needs_background": "light"
     },
     "output_type": "display_data"
    }
   ],
   "source": [
    "freethrow_percent = []\n",
    "for y in years:\n",
    "    ll = list()\n",
    "    for i in range(0, len(nba_big_man_3_data['Free Throw Percentage'])):\n",
    "        if int(nba_big_man_3_data['Year'].values[i]) == y:\n",
    "            ll.append(float(nba_big_man_3_data['Free Throw Percentage'].values[i]))\n",
    "    ll = np.array(ll)\n",
    "    mean_percent = np.mean(ll)\n",
    "    freethrow_percent.append(mean_percent) \n",
    "freethrow_percent = np.array(freethrow_percent)\n",
    "plt.figure(figsize=(10,15))\n",
    "plt.scatter(years, freethrow_percent)\n",
    "plt.title('Free Throw Percentage shot by C/PF over the years in NBA')\n",
    "plt.xlabel('Year')\n",
    "plt.ylabel('Free Throws Percentage')"
   ]
  },
  {
   "cell_type": "markdown",
   "id": "signal-revelation",
   "metadata": {},
   "source": [
    "Based on this graph, the data is scattered around over the years where the average free throw percentage varies between 68% and 72% in each season between 2000 and 2018. However, the last 3 years suddenly have an increase in average free throw percentage and goes above 72%. Therefore, the average free throw percentage of the big players does slightly increase over time but not as fast as their three-point percentage."
   ]
  },
  {
   "cell_type": "markdown",
   "id": "characteristic-length",
   "metadata": {},
   "source": [
    "Let’s plot a line of best fit for this one as well to see further if a linear relationship is present."
   ]
  },
  {
   "cell_type": "code",
   "execution_count": 208,
   "id": "recorded-demographic",
   "metadata": {},
   "outputs": [
    {
     "name": "stdout",
     "output_type": "stream",
     "text": [
      "y = 0.0010213055525584293*x + -1.3512242216596144\n",
      "0.20951385242688095\n"
     ]
    },
    {
     "data": {
      "text/plain": [
       "[<matplotlib.lines.Line2D at 0x7fa1f7c55c40>]"
      ]
     },
     "execution_count": 208,
     "metadata": {},
     "output_type": "execute_result"
    },
    {
     "data": {
      "image/png": "[encoded data removed]",
      "text/plain": [
       "<Figure size 720x1080 with 1 Axes>"
      ]
     },
     "metadata": {
      "needs_background": "light"
     },
     "output_type": "display_data"
    }
   ],
   "source": [
    "regression = linear_model.LinearRegression()\n",
    "years_for_reg = np.array([[y] for y in years])\n",
    "free_throwp_for_reg = np.array([[th] for th in freethrow_percent])\n",
    "regression_fit = regression.fit(years_for_reg, free_throwp_for_reg)\n",
    "m = regression_fit.coef_[0][0]\n",
    "b = regression_fit.intercept_[0]\n",
    "print('y = ' + str(m) + '*x + ' + str(b))\n",
    "predictions = [m*i + b for i in years]\n",
    "corrM = np.corrcoef(freethrow_percent, predictions)\n",
    "cor = corrM[0,1]\n",
    "R_sq = cor**2\n",
    "\n",
    "print(R_sq)\n",
    "\n",
    "plt.figure(figsize=(10,15))\n",
    "plt.scatter(years, freethrow_percent)\n",
    "plt.title('Free Throw Percentage shot by C/PF over the years in NBA')\n",
    "plt.xlabel('Year')\n",
    "plt.ylabel('Free Throws Percentage')\n",
    "plt.plot(years, years*m + b)"
   ]
  },
  {
   "cell_type": "markdown",
   "id": "public-decline",
   "metadata": {},
   "source": [
    "Based on the regression model’s output, for every one year passed, the average free throw percentage of the centers and power forwards increase by around 0.001 (0.1%). You can see based on the line that there is a moderately positive linear relationship between the average free throw percentage and time. The coefficient of determination is 0.21, which means that around 21% of the variation in the average free throw percentage by centers and power forwards can be predicted by time using linear regression. It is still low, but much better than what was analyzed in the relationship between the total number of free throws made by the big men and the years passed by."
   ]
  },
  {
   "cell_type": "markdown",
   "id": "southwest-astronomy",
   "metadata": {},
   "source": [
    "There is still not enough evidence that the free throw percentage by centers and power forwards improved over time, so let’s do a hypothesis test and calculate the p-value.\n",
    "\n",
    "Ho: There is no linear relationship between time and the average free throw percentage by Centers and Power Forwards (B = 0)\n",
    "\n",
    "Ha: There is a linear relationship between time and the average free throw percentage by Centers and Power Forwards (B != 0)\n",
    "\n",
    "Based on the line of best fit calculated above, the B for this sample is 0.001.\n",
    "\n",
    "Now let’s calculate the p-value."
   ]
  },
  {
   "cell_type": "code",
   "execution_count": 209,
   "id": "restricted-vision",
   "metadata": {},
   "outputs": [
    {
     "name": "stdout",
     "output_type": "stream",
     "text": [
      "0.0369358838366104\n"
     ]
    }
   ],
   "source": [
    "p_value = stats.linregress(years, freethrow_percent)[3]\n",
    "print(p_value)"
   ]
  },
  {
   "cell_type": "markdown",
   "id": "lesbian-doctrine",
   "metadata": {},
   "source": [
    "Based on the p-value, it is small, but nowhere near as small as the p-values that were calculated for the three-point field goals made in total and the average three-point percentage. However, 0.04 is still slightly less than 0.05 based on significance. Therefore, we can reject the null hypothesis at 0.05 significance. There is sufficient evidence that there is a linear relationship between the average free throw percentage shot by centers and power forwards and time. Thus we prove that the big men in the league have improved their free-throw shooting but by a small amount. We need more seasons to come by to see if the average free throw percentage will go even higher."
   ]
  },
  {
   "cell_type": "markdown",
   "id": "acquired-surgery",
   "metadata": {},
   "source": [
    "Now that it is shown that centers and power forwards have been shooting three-pointers more efficiently and have recently been improving their free throws as well, we can say for sure that big, tall players have really improved their shooting. And although their shooting averages are not as good compared to the other positions, it is still a significant increase and difference from their shooting in the past."
   ]
  },
  {
   "cell_type": "markdown",
   "id": "adolescent-toronto",
   "metadata": {},
   "source": [
    "# ML TESTING"
   ]
  },
  {
   "cell_type": "markdown",
   "id": "centered-wichita",
   "metadata": {},
   "source": [
    "Now let’s make and train a model that will determine the approximate time period of the NBA based on the total three-pointers made and the three-point percentage.\n",
    "We will use the player's total three-point shots made and the three-point percentage as features for a regression model to predict the year/time that player is from."
   ]
  },
  {
   "cell_type": "code",
   "execution_count": 210,
   "id": "typical-electron",
   "metadata": {},
   "outputs": [
    {
     "name": "stdout",
     "output_type": "stream",
     "text": [
      "[2009.01108647 2014.         2013.6        2009.01108647 2009.01108647\n",
      " 2009.01108647 2008.82051282 2009.01108647 2020.         2014.\n",
      " 2020.         2003.         2010.5        2003.         2009.\n",
      " 2008.         2009.01108647 2009.01108647 2009.01108647 2009.01108647\n",
      " 2009.01108647 2009.01108647 2004.         2018.         2017.\n",
      " 2010.         2009.01108647 2009.01108647 2007.         2009.01108647\n",
      " 2018.         2019.         2009.01108647 2009.01108647 2013.\n",
      " 2016.         2008.82051282 2009.01108647 2009.01108647 2014.\n",
      " 2009.01108647 2019.         2015.28571429 2013.4        2008.82051282\n",
      " 2013.         2014.         2010.375      2013.33333333 2009.01108647\n",
      " 2009.23529412 2013.35714286 2019.         2011.21428571 2015.5\n",
      " 2010.75       2009.01108647 2007.         2018.         2010.\n",
      " 2012.         2003.         2017.         2020.         2008.82051282\n",
      " 2016.         2009.01108647 2010.5        2013.         2009.01108647\n",
      " 2009.075      2009.01108647 2014.         2009.01108647 2004.\n",
      " 2009.01108647 2006.         2009.01108647 2019.         2009.01108647\n",
      " 2009.01108647 2009.01108647 2008.61904762 2015.         2008.82051282\n",
      " 2008.         2008.         2009.01108647 2014.5        2009.01108647\n",
      " 2019.         2015.         2011.         2009.01108647 2014.\n",
      " 2005.         2020.         2012.25       2010.44444444 2004.\n",
      " 2010.88888889 2012.5        2009.01108647 2009.01108647 2012.\n",
      " 2009.01108647 2009.01108647 2007.5        2008.         2009.01108647\n",
      " 2009.01108647 2001.         2020.         2016.         2009.01108647\n",
      " 2009.01108647 2002.         2018.         2009.01108647 2017.\n",
      " 2017.         2009.01108647 2010.75       2009.01108647 2017.\n",
      " 2012.         2018.         2008.82051282 2019.         2000.\n",
      " 2009.01108647 2008.61904762 2009.01108647 2008.22580645 2009.01108647\n",
      " 2009.01108647 2009.01108647 2009.01108647 2009.01108647 2013.\n",
      " 2012.         2009.5        2009.57142857 2015.28571429 2008.\n",
      " 2011.21428571 2009.01108647 2009.01108647 2009.01108647 2012.25\n",
      " 2009.01108647 2019.         2009.075      2008.82051282 2006.\n",
      " 2019.         2017.         2004.66666667 2007.         2009.01108647\n",
      " 2019.         2009.01108647 2012.         2005.         2011.\n",
      " 2003.         2013.         2011.21428571 2009.01108647 2009.01108647\n",
      " 2006.33333333 2009.01108647 2009.01108647 2014.         2009.01108647\n",
      " 2009.01108647 2020.         2009.01108647 2005.         2009.01108647\n",
      " 2009.01108647 2009.01108647 2013.         2009.01108647 2009.01108647\n",
      " 2017.25       2013.         2015.         2003.         2008.82051282\n",
      " 2005.         2010.         2009.01108647 2009.01108647 2009.01108647\n",
      " 2009.01108647 2016.         2019.         2009.01108647 2009.01108647\n",
      " 2009.01108647 2005.         2009.075      2009.01108647 2017.\n",
      " 2008.82051282 2008.82051282 2014.         2007.         2003.\n",
      " 2016.         2010.375      2009.01108647 2008.8        2014.5\n",
      " 2001.         2020.         2014.         2004.         2008.82051282\n",
      " 2009.57142857 2017.         2009.01108647 2014.66666667 2009.01108647\n",
      " 2009.01108647 2020.         2009.01108647 2009.01108647 2009.01108647\n",
      " 2016.         2014.         2012.         2009.01108647 2012.\n",
      " 2009.         2008.         2009.01108647 2016.         2013.6\n",
      " 2009.01108647 2020.         2006.33333333 2004.         2009.01108647\n",
      " 2009.01108647 2009.01108647 2009.01108647 2020.         2012.5\n",
      " 2009.01108647 2016.2        2009.01108647 2009.5        2019.\n",
      " 2015.28571429 2007.         2003.         2009.01108647 2009.01108647\n",
      " 2001.         2009.01108647 2011.         2009.01108647 2020.\n",
      " 2018.         2009.01108647 2009.01108647 2009.01108647 2008.5\n",
      " 2020.         2019.         2009.73333333 2009.01108647 2002.\n",
      " 2009.01108647 2019.         2009.01108647 2010.44444444 2013.\n",
      " 2009.01108647 2010.         2018.         2020.         2005.\n",
      " 2014.         2009.01108647 2000.         2004.         2008.22580645\n",
      " 2011.21428571 2008.         2009.01108647 2012.90909091 2020.\n",
      " 2013.14285714 2009.01108647 2019.         2009.01108647 2008.\n",
      " 2009.01108647 2001.         2009.01108647 2009.01108647 2009.01108647\n",
      " 2007.83333333 2018.         2009.01108647 2009.01108647 2018.\n",
      " 2019.         2009.5        2007.         2000.         2010.45454545\n",
      " 2016.         2012.42307692 2009.01108647 2007.33333333 2009.01108647\n",
      " 2018.         2008.82051282 2013.35714286 2009.73333333 2019.\n",
      " 2010.45454545 2009.01108647 2011.         2009.01108647 2005.\n",
      " 2007.5        2009.01108647 2019.         2009.01108647 2008.\n",
      " 2020.         2009.01108647 2010.44444444 2010.44444444 2009.01108647\n",
      " 2004.         2014.         2017.         2009.01108647 2011.21428571\n",
      " 2010.75       2009.73333333 2009.01108647 2017.         2009.01108647\n",
      " 2004.         2018.         2020.         2007.         2010.\n",
      " 2007.         2009.01108647 2009.01108647 2009.01108647 2009.01108647\n",
      " 2009.01108647 2012.42307692 2019.         2009.01108647 2009.01108647\n",
      " 2009.01108647 2014.66666667 2009.01108647 2020.         2010.\n",
      " 2019.         2004.         2009.01108647 2009.01108647 2009.01108647\n",
      " 2009.01108647 2009.         2019.         2014.         2008.\n",
      " 2016.         2008.61904762 2016.5        2013.33333333 2016.\n",
      " 2012.66666667 2011.         2009.01108647 2009.01108647 2009.01108647\n",
      " 2009.01108647 2005.         2020.         2009.01108647 2020.\n",
      " 2006.         2016.         2009.01108647 2013.4        2009.01108647\n",
      " 2009.01108647 2013.35714286 2020.         2011.         2009.01108647\n",
      " 2008.82051282 2009.01108647 2019.         2019.         2020.\n",
      " 2004.         2009.01108647 2009.01108647 2013.14285714 2020.\n",
      " 2009.01108647 2012.25       2010.375      2009.01108647 2009.01108647\n",
      " 2020.         2018.         2010.44444444 2009.01108647 2009.01108647\n",
      " 2008.82051282 2010.         2009.01108647 2009.01108647 2009.01108647\n",
      " 2018.         2009.075      2020.         2009.01108647 2009.01108647\n",
      " 2009.01108647 2019.         2012.42307692 2007.33333333 2020.\n",
      " 2011.         2020.         2009.01108647 2019.         2019.\n",
      " 2020.         2014.33333333 2020.         2013.         2009.01108647\n",
      " 2008.61904762 2002.         2003.         2019.         2008.82051282\n",
      " 2012.90909091 2015.         2009.5        2001.         2009.01108647\n",
      " 2009.01108647 2019.         2008.22580645 2009.01108647 2005.\n",
      " 2009.01108647 2009.01108647 2017.5        2009.01108647 2017.\n",
      " 2009.01108647 2009.01108647 2007.         2009.01108647 2012.90909091\n",
      " 2009.4        2009.01108647 2011.         2010.         2013.35714286\n",
      " 2009.01108647 2009.01108647 2000.         2008.61904762 2016.\n",
      " 2009.01108647 2009.075      2009.57142857 2009.01108647 2009.01108647\n",
      " 2017.         2013.         2006.         2009.01108647 2006.\n",
      " 2009.01108647 2020.         2009.01108647 2009.01108647 2009.01108647\n",
      " 2013.4        2008.         2009.01108647 2007.         2012.66666667\n",
      " 2008.         2015.28571429 2008.         2011.         2014.\n",
      " 2007.83333333 2010.88888889 2009.01108647 2005.         2009.01108647\n",
      " 2009.01108647 2018.         2007.5        2009.01108647 2009.01108647\n",
      " 2009.01108647 2008.61904762 2019.         2009.01108647 2001.\n",
      " 2010.375      2009.42553191 2010.375      2019.         2008.\n",
      " 2009.01108647 2009.01108647 2018.         2016.         2009.01108647\n",
      " 2009.01108647 2016.         2009.         2019.         2013.\n",
      " 2009.01108647 2009.01108647 2014.         2010.5        2003.\n",
      " 2009.01108647 2009.01108647 2014.         2015.         2019.\n",
      " 2009.01108647 2009.01108647 2016.         2008.82051282 2001.\n",
      " 2007.         2009.01108647 2009.01108647 2010.         2014.\n",
      " 2009.01108647 2009.01108647 2014.         2016.         2009.01108647\n",
      " 2007.         2004.         2012.90909091 2013.5        2003.\n",
      " 2009.01108647 2009.01108647 2010.         2009.01108647 2009.01108647\n",
      " 2008.61904762 2010.         2019.         2009.01108647 2010.5\n",
      " 2009.01108647 2017.         2008.22580645 2009.5        2009.01108647\n",
      " 2008.         2009.01108647 2009.01108647 2008.61904762 2009.01108647\n",
      " 2009.01108647 2012.         2008.61904762 2010.45454545 2009.\n",
      " 2009.01108647 2009.01108647 2014.         2014.         2018.\n",
      " 2009.01108647 2009.01108647 2009.4        2009.5        2005.\n",
      " 2009.01108647 2018.         2007.83333333 2008.82051282 2009.01108647\n",
      " 2009.01108647 2009.01108647 2008.         2009.42553191 2009.01108647\n",
      " 2009.01108647 2009.01108647 2018.         2009.01108647 2009.01108647\n",
      " 2009.01108647 2009.01108647 2009.01108647 2017.         2013.6\n",
      " 2009.01108647 2008.61904762 2009.01108647 2011.         2009.01108647\n",
      " 2010.75       2009.01108647 2004.         2009.01108647 2009.01108647\n",
      " 2009.01108647 2008.61904762 2009.01108647 2009.01108647 2009.01108647\n",
      " 2005.         2009.01108647 2009.01108647 2008.61904762 2009.01108647]\n"
     ]
    }
   ],
   "source": [
    "three_pointers = nba_big_man_3_data['3 Pointers Made'].copy()\n",
    "three_point_percent = nba_big_man_3_data['3 Point Percentage'].copy()\n",
    "years = nba_big_man_3_data['Year'].copy()\n",
    "X = pd.DataFrame()\n",
    "X.insert(0, '3 Pointers Made', three_pointers)\n",
    "X.insert(1, '3 Point Percentage', three_point_percent)\n",
    "\n",
    "from sklearn.model_selection import cross_val_score\n",
    "from sklearn.tree import DecisionTreeRegressor\n",
    "from sklearn.model_selection import train_test_split\n",
    "\n",
    "\n",
    "X_train, X_test, y_train, y_test = train_test_split(X, years, test_size=0.20, random_state=0)\n",
    "regressor = DecisionTreeRegressor(random_state=0)\n",
    "regressor_fit = regressor.fit(X_train, y_train)\n",
    "regressor_fit.predict(X_train)\n",
    "print(regressor_fit.predict(X_test))\n",
    "\n"
   ]
  },
  {
   "cell_type": "markdown",
   "id": "pediatric-crime",
   "metadata": {},
   "source": [
    "These are all the predicted values the model made from the testing data. Now lets see how efficient this model is."
   ]
  },
  {
   "cell_type": "code",
   "execution_count": 211,
   "id": "square-sullivan",
   "metadata": {},
   "outputs": [
    {
     "name": "stdout",
     "output_type": "stream",
     "text": [
      "0.32443039561658593\n"
     ]
    }
   ],
   "source": [
    "from sklearn.metrics import r2_score\n",
    "print(abs(r2_score(y_test, regressor_fit.predict(X_test))))"
   ]
  },
  {
   "cell_type": "markdown",
   "id": "breeding-smooth",
   "metadata": {},
   "source": [
    "Based on the coefficient of determination, our model is 32.44% of the time accurate. The model isn't the worst but isn't the best either. For now, there isn't enough data to make a model be able to predict most of the years accurately since we only used 21 to train and test this model. But over time, as later seasons come by and if the same trends that we analyze before where three-point shooting by Centers and Power Forwards get drastically better and possibly skyrocket even more, then the model can more accurately determine the time based on the three-point statistics of the big men in the league."
   ]
  },
  {
   "cell_type": "markdown",
   "id": "nearby-domestic",
   "metadata": {},
   "source": [
    "# OVERALL CONCLUSION / INSIGHT"
   ]
  },
  {
   "cell_type": "markdown",
   "id": "controlled-hanging",
   "metadata": {},
   "source": [
    "Based on the trends and patterns analyzed over the years in the NBA, there is no question that centers and power forwards, the big men of the league that are mainly responsible for scoring in the short-ranged paint, have improved their shooting by a large margin. While their free throw shooting efficiency got up by a small amount, their three-point shooting efficiency drastically increased since 2000, especially around 2015 when Stephen Curry has impacted Basketball to become a more shooting dominant sport. It is important that we know this trend will go even further beyond as players like Dwight Howard and Giannis AntetoKounpo, who have had very poor shooting records, are starting to improve their shooting. This trend that we showed can potentially be a problem for the NBA as it could lead to the sport having less variety as almost every player on the court will have the same playstyle no the one they were intended. This leads to higher homogeny, and \"Homogeny is a problem because it makes games boring. Variety is what makes the sport exciting. It was fun to see the deep shooting Warriors take on the paint-dominating Cavaliers in the Finals from 2015-2018, but decidedly less interesting to see two teams use identical strategies, \" and ideally this will make the NBA more predictable than ever (Dator, 2021). We should find ways to prevent the trends identified in this tutorial from ruining basketball with certain innovation steps. We could possibly add an extra line aka a 4 pointer beyond the three-point line, where if a player shoots from that range, it would be 4 points. Another approach, which was proposed by Shaq is to \"Cap the number of 3-pointers a team can take over the course of a game,\" so that three-pointers don't dominate the game, making it more fair and aggressive (Dator, 2021). Whatever innovation or rule takes place needs to prevent the changes analyzed here from ruining the NBA."
   ]
  },
  {
   "cell_type": "markdown",
   "id": "informative-northeast",
   "metadata": {},
   "source": [
    "# LIST OF REFERENCES:"
   ]
  },
  {
   "cell_type": "markdown",
   "id": "banner-karma",
   "metadata": {},
   "source": [
    "- https://www.axistalent.io/blog/how-steph-curry-changed-the-world-of-nba-through-data-analytics"
   ]
  },
  {
   "cell_type": "markdown",
   "id": "silver-german",
   "metadata": {},
   "source": [
    "- https://www.basketball-reference.com/leagues/"
   ]
  },
  {
   "cell_type": "markdown",
   "id": "supreme-horizon",
   "metadata": {},
   "source": [
    "- https://www.statmuse.com/nba/ask/best-3-point-shooting-centers-and-power-forwards-in-the-nba"
   ]
  },
  {
   "cell_type": "markdown",
   "id": "massive-dance",
   "metadata": {},
   "source": [
    "- https://www.sbnation.com/nba/2021/3/10/22323023/nba-three-point-shooting-breaking-point"
   ]
  },
  {
   "cell_type": "code",
   "execution_count": null,
   "id": "fallen-secondary",
   "metadata": {},
   "outputs": [],
   "source": []
  }
 ],
 "metadata": {
  "kernelspec": {
   "display_name": "Python 3",
   "language": "python",
   "name": "python3"
  },
  "language_info": {
   "codemirror_mode": {
    "name": "ipython",
    "version": 3
   },
   "file_extension": ".py",
   "mimetype": "text/x-python",
   "name": "python",
   "nbconvert_exporter": "python",
   "pygments_lexer": "ipython3",
   "version": "3.8.6"
  }
 },
 "nbformat": 4,
 "nbformat_minor": 5
}
